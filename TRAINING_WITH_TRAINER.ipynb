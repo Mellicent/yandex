{
  "cells": [
    {
      "cell_type": "markdown",
      "metadata": {
        "id": "view-in-github",
        "colab_type": "text"
      },
      "source": [
        "<a href=\"https://colab.research.google.com/github/Mellicent/devops-essentials-sample-app/blob/master/TRAINING_WITH_TRAINER.ipynb\" target=\"_parent\"><img src=\"https://colab.research.google.com/assets/colab-badge.svg\" alt=\"Open In Colab\"/></a>"
      ]
    },
    {
      "cell_type": "markdown",
      "metadata": {
        "toc": true,
        "id": "Q6XyXc9rNRua"
      },
      "source": [
        "<h1>Содержание<span class=\"tocSkip\"></span></h1>\n",
        "<div class=\"toc\"><ul class=\"toc-item\"><li><span><a href=\"#Подготовка-данных\" data-toc-modified-id=\"Подготовка-данных-1\"><span class=\"toc-item-num\">1&nbsp;&nbsp;</span>Подготовка данных</a></span></li><li><span><a href=\"#Исследование-задачи\" data-toc-modified-id=\"Исследование-задачи-2\"><span class=\"toc-item-num\">2&nbsp;&nbsp;</span>Исследование задачи</a></span></li><li><span><a href=\"#Борьба-с-дисбалансом\" data-toc-modified-id=\"Борьба-с-дисбалансом-3\"><span class=\"toc-item-num\">3&nbsp;&nbsp;</span>Борьба с дисбалансом</a></span></li><li><span><a href=\"#Тестирование-модели\" data-toc-modified-id=\"Тестирование-модели-4\"><span class=\"toc-item-num\">4&nbsp;&nbsp;</span>Тестирование модели</a></span></li><li><span><a href=\"#Чек-лист-готовности-проекта\" data-toc-modified-id=\"Чек-лист-готовности-проекта-5\"><span class=\"toc-item-num\">5&nbsp;&nbsp;</span>Чек-лист готовности проекта</a></span></li></ul></div>"
      ]
    },
    {
      "cell_type": "markdown",
      "metadata": {
        "id": "45dc-0OXNRub"
      },
      "source": [
        "# Отток клиентов"
      ]
    },
    {
      "cell_type": "markdown",
      "metadata": {
        "id": "969Ap4uoNRub"
      },
      "source": [
        "Из «Бета-Банка» стали уходить клиенты. Каждый месяц. Немного, но заметно. Банковские маркетологи посчитали: сохранять текущих клиентов дешевле, чем привлекать новых.\n",
        "\n",
        "Нужно спрогнозировать, уйдёт клиент из банка в ближайшее время или нет. Вам предоставлены исторические данные о поведении клиентов и расторжении договоров с банком.\n",
        "\n",
        "Постройте модель с предельно большим значением *F1*-меры. Чтобы сдать проект успешно, нужно довести метрику до 0.59. Проверьте *F1*-меру на тестовой выборке самостоятельно.\n",
        "\n",
        "Дополнительно измеряйте *AUC-ROC*, сравнивайте её значение с *F1*-мерой.\n",
        "\n",
        "Источник данных: [https://www.kaggle.com/barelydedicated/bank-customer-churn-modeling](https://www.kaggle.com/barelydedicated/bank-customer-churn-modeling)"
      ]
    },
    {
      "cell_type": "markdown",
      "metadata": {
        "id": "KX3jqE7MNRub"
      },
      "source": [
        "## Подготовка данных"
      ]
    },
    {
      "cell_type": "markdown",
      "metadata": {
        "id": "7yyFkfzONRub"
      },
      "source": [
        "Установка imbalanced-learn"
      ]
    },
    {
      "cell_type": "code",
      "execution_count": null,
      "metadata": {
        "id": "0oy7uS7oNRuc"
      },
      "outputs": [],
      "source": [
        "!pip install -q imbalanced-learn==0.8.1\n",
        "!pip install -q scikit-learn==0.24.2"
      ]
    },
    {
      "cell_type": "markdown",
      "metadata": {
        "id": "uWrSCLSGNRud"
      },
      "source": [
        "Импорт библиотек"
      ]
    },
    {
      "cell_type": "code",
      "execution_count": null,
      "metadata": {
        "id": "5lIMAG78NRud"
      },
      "outputs": [],
      "source": [
        "import pandas as pd\n",
        "from IPython.display import display\n",
        "from sklearn.model_selection import train_test_split\n",
        "from sklearn.linear_model import LinearRegression\n",
        "from sklearn.tree import DecisionTreeRegressor\n",
        "from sklearn.ensemble import RandomForestRegressor\n",
        "from sklearn.metrics import mean_absolute_error, make_scorer\n",
        "from sklearn.metrics import accuracy_score, precision_score, recall_score, f1_score, roc_auc_score, classification_report,auc, roc_curve\n",
        "from sklearn.preprocessing import StandardScaler\n",
        "from sklearn.ensemble import RandomForestClassifier\n",
        "from sklearn.tree import DecisionTreeClassifier\n",
        "from sklearn.linear_model import LogisticRegression\n",
        "from imblearn.over_sampling import RandomOverSampler, SMOTE\n",
        "import matplotlib.pyplot as plt\n",
        "import numpy as np\n",
        "from sklearn.model_selection import GridSearchCV\n",
        "from imblearn.pipeline import Pipeline"
      ]
    },

    {
      "cell_type": "markdown",
      "metadata": {
        "id": "FWmVA6OgNRue"
      },
      "source": [
        "Читаем файл"
      ]
    },
    {
      "cell_type": "code",
      "execution_count": null,
      "metadata": {
        "id": "d0RFR4teNRue",
        "outputId": "92a906d1-4a6e-4ec6-fbbc-ad0e31b4a814"
      },
      "outputs": [
        {
          "data": {
            "text/html": [
              "<div>\n",
              "<style scoped>\n",
              "    .dataframe tbody tr th:only-of-type {\n",
              "        vertical-align: middle;\n",
              "    }\n",
              "\n",
              "    .dataframe tbody tr th {\n",
              "        vertical-align: top;\n",
              "    }\n",
              "\n",
              "    .dataframe thead th {\n",
              "        text-align: right;\n",
              "    }\n",
              "</style>\n",
              "<table border=\"1\" class=\"dataframe\">\n",
              "  <thead>\n",
              "    <tr style=\"text-align: right;\">\n",
              "      <th></th>\n",
              "      <th>RowNumber</th>\n",
              "      <th>CustomerId</th>\n",
              "      <th>Surname</th>\n",
              "      <th>CreditScore</th>\n",
              "      <th>Geography</th>\n",
              "      <th>Gender</th>\n",
              "      <th>Age</th>\n",
              "      <th>Tenure</th>\n",
              "      <th>Balance</th>\n",
              "      <th>NumOfProducts</th>\n",
              "      <th>HasCrCard</th>\n",
              "      <th>IsActiveMember</th>\n",
              "      <th>EstimatedSalary</th>\n",
              "      <th>Exited</th>\n",
              "    </tr>\n",
              "  </thead>\n",
              "  <tbody>\n",
              "    <tr>\n",
              "      <th>0</th>\n",
              "      <td>1</td>\n",
              "      <td>15634602</td>\n",
              "      <td>Hargrave</td>\n",
              "      <td>619</td>\n",
              "      <td>France</td>\n",
              "      <td>Female</td>\n",
              "      <td>42</td>\n",
              "      <td>2.0</td>\n",
              "      <td>0.00</td>\n",
              "      <td>1</td>\n",
              "      <td>1</td>\n",
              "      <td>1</td>\n",
              "      <td>101348.88</td>\n",
              "      <td>1</td>\n",
              "    </tr>\n",
              "    <tr>\n",
              "      <th>1</th>\n",
              "      <td>2</td>\n",
              "      <td>15647311</td>\n",
              "      <td>Hill</td>\n",
              "      <td>608</td>\n",
              "      <td>Spain</td>\n",
              "      <td>Female</td>\n",
              "      <td>41</td>\n",
              "      <td>1.0</td>\n",
              "      <td>83807.86</td>\n",
              "      <td>1</td>\n",
              "      <td>0</td>\n",
              "      <td>1</td>\n",
              "      <td>112542.58</td>\n",
              "      <td>0</td>\n",
              "    </tr>\n",
              "    <tr>\n",
              "      <th>2</th>\n",
              "      <td>3</td>\n",
              "      <td>15619304</td>\n",
              "      <td>Onio</td>\n",
              "      <td>502</td>\n",
              "      <td>France</td>\n",
              "      <td>Female</td>\n",
              "      <td>42</td>\n",
              "      <td>8.0</td>\n",
              "      <td>159660.80</td>\n",
              "      <td>3</td>\n",
              "      <td>1</td>\n",
              "      <td>0</td>\n",
              "      <td>113931.57</td>\n",
              "      <td>1</td>\n",
              "    </tr>\n",
              "    <tr>\n",
              "      <th>3</th>\n",
              "      <td>4</td>\n",
              "      <td>15701354</td>\n",
              "      <td>Boni</td>\n",
              "      <td>699</td>\n",
              "      <td>France</td>\n",
              "      <td>Female</td>\n",
              "      <td>39</td>\n",
              "      <td>1.0</td>\n",
              "      <td>0.00</td>\n",
              "      <td>2</td>\n",
              "      <td>0</td>\n",
              "      <td>0</td>\n",
              "      <td>93826.63</td>\n",
              "      <td>0</td>\n",
              "    </tr>\n",
              "    <tr>\n",
              "      <th>4</th>\n",
              "      <td>5</td>\n",
              "      <td>15737888</td>\n",
              "      <td>Mitchell</td>\n",
              "      <td>850</td>\n",
              "      <td>Spain</td>\n",
              "      <td>Female</td>\n",
              "      <td>43</td>\n",
              "      <td>2.0</td>\n",
              "      <td>125510.82</td>\n",
              "      <td>1</td>\n",
              "      <td>1</td>\n",
              "      <td>1</td>\n",
              "      <td>79084.10</td>\n",
              "      <td>0</td>\n",
              "    </tr>\n",
              "  </tbody>\n",
              "</table>\n",
              "</div>"
            ],
            "text/plain": [
              "   RowNumber  CustomerId   Surname  CreditScore Geography  Gender  Age  \\\n",
              "0          1    15634602  Hargrave          619    France  Female   42   \n",
              "1          2    15647311      Hill          608     Spain  Female   41   \n",
              "2          3    15619304      Onio          502    France  Female   42   \n",
              "3          4    15701354      Boni          699    France  Female   39   \n",
              "4          5    15737888  Mitchell          850     Spain  Female   43   \n",
              "\n",
              "   Tenure    Balance  NumOfProducts  HasCrCard  IsActiveMember  \\\n",
              "0     2.0       0.00              1          1               1   \n",
              "1     1.0   83807.86              1          0               1   \n",
              "2     8.0  159660.80              3          1               0   \n",
              "3     1.0       0.00              2          0               0   \n",
              "4     2.0  125510.82              1          1               1   \n",
              "\n",
              "   EstimatedSalary  Exited  \n",
              "0        101348.88       1  \n",
              "1        112542.58       0  \n",
              "2        113931.57       1  \n",
              "3         93826.63       0  \n",
              "4         79084.10       0  "
            ]
          },
          "metadata": {},
          "output_type": "display_data"
        },
        {
          "name": "stdout",
          "output_type": "stream",
          "text": [
            "<class 'pandas.core.frame.DataFrame'>\n",
            "RangeIndex: 10000 entries, 0 to 9999\n",
            "Data columns (total 14 columns):\n",
            " #   Column           Non-Null Count  Dtype  \n",
            "---  ------           --------------  -----  \n",
            " 0   RowNumber        10000 non-null  int64  \n",
            " 1   CustomerId       10000 non-null  int64  \n",
            " 2   Surname          10000 non-null  object \n",
            " 3   CreditScore      10000 non-null  int64  \n",
            " 4   Geography        10000 non-null  object \n",
            " 5   Gender           10000 non-null  object \n",
            " 6   Age              10000 non-null  int64  \n",
            " 7   Tenure           9091 non-null   float64\n",
            " 8   Balance          10000 non-null  float64\n",
            " 9   NumOfProducts    10000 non-null  int64  \n",
            " 10  HasCrCard        10000 non-null  int64  \n",
            " 11  IsActiveMember   10000 non-null  int64  \n",
            " 12  EstimatedSalary  10000 non-null  float64\n",
            " 13  Exited           10000 non-null  int64  \n",
            "dtypes: float64(3), int64(8), object(3)\n",
            "memory usage: 1.1+ MB\n"
          ]
        }
      ],
      "source": [
        "df = pd.read_csv('/datasets/Churn.csv')\n",
        "# Преобразование категориальных переменных\n",
        "\n",
        "display(df.head())\n",
        "df.info()"
      ]
    },
    {
      "cell_type": "markdown",
      "metadata": {
        "id": "dD0XFeYaNRuf"
      },
      "source": [
        "Как мы видим, есть пропущенные значения в Tenure. А, поскольку это \"сколько лет человек является клиентом банка\", то заменяю пропущенные значения на 0"
      ]
    },
    {
      "cell_type": "code",
      "execution_count": null,
      "metadata": {
        "id": "KQPZjP8UNRuf",
        "outputId": "654540d0-0a79-402b-d512-9a0e84c60452"
      },
      "outputs": [
        {
          "name": "stdout",
          "output_type": "stream",
          "text": [
            "<class 'pandas.core.frame.DataFrame'>\n",
            "RangeIndex: 10000 entries, 0 to 9999\n",
            "Data columns (total 15 columns):\n",
            " #   Column             Non-Null Count  Dtype  \n",
            "---  ------             --------------  -----  \n",
            " 0   RowNumber          10000 non-null  int64  \n",
            " 1   CustomerId         10000 non-null  int64  \n",
            " 2   Surname            10000 non-null  object \n",
            " 3   CreditScore        10000 non-null  int64  \n",
            " 4   Age                10000 non-null  int64  \n",
            " 5   Tenure             10000 non-null  float64\n",
            " 6   Balance            10000 non-null  float64\n",
            " 7   NumOfProducts      10000 non-null  int64  \n",
            " 8   HasCrCard          10000 non-null  int64  \n",
            " 9   IsActiveMember     10000 non-null  int64  \n",
            " 10  EstimatedSalary    10000 non-null  float64\n",
            " 11  Exited             10000 non-null  int64  \n",
            " 12  Geography_Germany  10000 non-null  uint8  \n",
            " 13  Geography_Spain    10000 non-null  uint8  \n",
            " 14  Gender_Male        10000 non-null  uint8  \n",
            "dtypes: float64(3), int64(8), object(1), uint8(3)\n",
            "memory usage: 966.9+ KB\n",
            "None\n"
          ]
        }
      ],
      "source": [
        "# Преобразование категориальных переменных\n",
        "df = pd.get_dummies(df, columns=['Geography', 'Gender'], drop_first=True)\n",
        "\n",
        "# Заполнение пропущенных значений столбца Tenure средним значением\n",
        "average_tenure = df['Tenure'].mean()\n",
        "df['Tenure'].fillna(average_tenure, inplace=True)\n",
        "\n",
        "# Проверка, что пропущенные значения успешно заполнены\n",
        "print(df.info())\n"
      ]
    },
    {
      "cell_type": "code",
      "execution_count": null,
      "metadata": {
        "id": "t8l69o6sNRug",
        "outputId": "3ac07dbd-94f3-47ff-cb47-2231d15dcc6d"
      },
      "outputs": [
        {
          "name": "stdout",
          "output_type": "stream",
          "text": [
            "<class 'pandas.core.frame.DataFrame'>\n",
            "RangeIndex: 10000 entries, 0 to 9999\n",
            "Data columns (total 13 columns):\n",
            " #   Column             Non-Null Count  Dtype  \n",
            "---  ------             --------------  -----  \n",
            " 0   RowNumber          10000 non-null  int64  \n",
            " 1   CustomerId         10000 non-null  int64  \n",
            " 2   CreditScore        10000 non-null  int64  \n",
            " 3   Age                10000 non-null  int64  \n",
            " 4   Tenure             10000 non-null  float64\n",
            " 5   Balance            10000 non-null  float64\n",
            " 6   NumOfProducts      10000 non-null  int64  \n",
            " 7   HasCrCard          10000 non-null  int64  \n",
            " 8   IsActiveMember     10000 non-null  int64  \n",
            " 9   EstimatedSalary    10000 non-null  float64\n",
            " 10  Geography_Germany  10000 non-null  uint8  \n",
            " 11  Geography_Spain    10000 non-null  uint8  \n",
            " 12  Gender_Male        10000 non-null  uint8  \n",
            "dtypes: float64(3), int64(7), uint8(3)\n",
            "memory usage: 810.7 KB\n",
            "None\n"
          ]
        }
      ],
      "source": [
        "\n",
        "# Разделение на признаки и целевую переменную\n",
        "target = df['Exited']\n",
        "features = df.drop(['Exited', 'Surname'], axis=1)\n",
        "print(features.info())"
      ]
    },
    {
      "cell_type": "markdown",
      "metadata": {
        "id": "hYNqWpg1NRug"
      },
      "source": [
        "Теперь нет пропущенных значений"
      ]
    },
    {
      "cell_type": "markdown",
      "metadata": {
        "id": "f9QgVV7JNRug"
      },
      "source": [
        "## Исследование задачи"
      ]
    },
    {
      "cell_type": "markdown",
      "metadata": {
        "id": "lG2oqaGHNRuh"
      },
      "source": [
        "Для исследования баланса классов вам необходимо посмотреть, сколько объектов относится к каждому классу в целевой переменной. Это можно сделать с помощью метода value_counts() на вашей целевой переменной. В данном случае, целевой переменной является столбец \"Exited\"."
      ]
    },
    {
      "cell_type": "code",
      "execution_count": null,
      "metadata": {
        "scrolled": true,
        "id": "jAfZS7vmNRuh",
        "outputId": "74e73dd8-469a-4b17-aae5-2a0c6cf6062b"
      },
      "outputs": [
        {
          "name": "stdout",
          "output_type": "stream",
          "text": [
            "0    7963\n",
            "1    2037\n",
            "Name: Exited, dtype: int64\n"
          ]
        }
      ],
      "source": [
        "class_counts = df['Exited'].value_counts()\n",
        "print(class_counts)"
      ]
    },
    {
      "cell_type": "markdown",
      "metadata": {
        "id": "Rnd1vsWgNRui"
      },
      "source": [
        "Исходя из вывода, можно сделать следующие наблюдения:\n",
        "\n",
        "- Класс 0 (клиенты, которые не ушли) содержит 7963 записи.\n",
        "- Класс 1 (клиенты, которые ушли) содержит 2037 записей.\n",
        "\n",
        "Здесь наблюдается дисбаланс классов, так как количество записей в классе 0 существенно превосходит количество записей в классе 1.\n",
        "\n"
      ]
    },
    {
      "cell_type": "markdown",
      "metadata": {
        "id": "Ihq8UW13NRui"
      },
      "source": [
        "Исследуйте баланс классов, обучите модель без учёта дисбаланса. Кратко опишите выводы.\n",
        "Исследуем 3 разные модели"
      ]
    },
    {
      "cell_type": "code",
      "execution_count": null,
      "metadata": {
        "id": "br9H0sNkNRui",
        "outputId": "c3b96b38-ca42-4f11-81b0-6bcf0917bd98"
      },
      "outputs": [
        {
          "name": "stdout",
          "output_type": "stream",
          "text": [
            "Random Forest:\n",
            "Accuracy: 0.8615\n",
            "Precision: 0.8133333333333334\n",
            "Recall: 0.43779904306220097\n",
            "F1-score: 0.5692068429237946\n",
            "ROC-AUC: 0.8411495351411514\n"
          ]
        }
      ],
      "source": [
        "# Разбиение на обучающую, валидационную и тестовую выборки\n",
        "features_train, features_temp, target_train, target_temp = train_test_split(\n",
        "    features, target, test_size=0.4, random_state=12345)\n",
        "\n",
        "features_valid, features_test, target_valid, target_test = train_test_split(\n",
        "    features_temp, target_temp, test_size=0.5, random_state=12345)\n",
        "\n",
        "# Масштабирование данных на трейне, валидации и тесте\n",
        "scaler = StandardScaler()\n",
        "features_train_scaled = scaler.fit_transform(features_train)\n",
        "features_valid_scaled = scaler.transform(features_valid)\n",
        "features_test_scaled = scaler.transform(features_test)\n",
        "\n",
        "# Обучение и оценка модели случайного леса\n",
        "rf_model = RandomForestClassifier(random_state=12345)\n",
        "rf_model.fit(features_train_scaled, target_train)\n",
        "predictions_valid_rf = rf_model.predict(features_valid_scaled)\n",
        "accuracy_rf = accuracy_score(target_valid, predictions_valid_rf)\n",
        "precision_rf = precision_score(target_valid, predictions_valid_rf)\n",
        "recall_rf = recall_score(target_valid, predictions_valid_rf)\n",
        "f1_rf = f1_score(target_valid, predictions_valid_rf)\n",
        "\n",
        "# Вычисление ROC-AUC для модели случайного леса\n",
        "probabilities_valid_rf = rf_model.predict_proba(features_valid_scaled)[:, 1]\n",
        "roc_auc_rf = roc_auc_score(target_valid, probabilities_valid_rf)\n",
        "fpr_rf, tpr_rf, thresholds_rf = roc_curve(target_valid, probabilities_valid_rf)\n",
        "\n",
        "print(\"Random Forest:\")\n",
        "print(\"Accuracy:\", accuracy_rf)\n",
        "print(\"Precision:\", precision_rf)\n",
        "print(\"Recall:\", recall_rf)\n",
        "print(\"F1-score:\", f1_rf)\n",
        "print(\"ROC-AUC:\", roc_auc_rf)\n"
      ]
    },
    {
      "cell_type": "code",
      "execution_count": null,
      "metadata": {
        "id": "xbbC6yUUNRuj",
        "outputId": "fc6f3db9-367e-4f9e-b56e-3b33fef762c3"
      },
      "outputs": [
        {
          "name": "stdout",
          "output_type": "stream",
          "text": [
            "Random Forest:\n",
            "Accuracy: 0.8615\n",
            "Precision: 0.8133333333333334\n",
            "Recall: 0.43779904306220097\n",
            "F1-score: 0.5692068429237946\n",
            "ROC-AUC: 0.8411495351411514\n"
          ]
        }
      ],
      "source": [
        "# Обучение и оценка модели случайного леса\n",
        "rf_model = RandomForestClassifier(random_state=12345)\n",
        "rf_model.fit(features_train_scaled, target_train)\n",
        "predictions_valid_rf = rf_model.predict(features_valid_scaled)\n",
        "accuracy_rf = accuracy_score(target_valid, predictions_valid_rf)\n",
        "precision_rf = precision_score(target_valid, predictions_valid_rf)\n",
        "recall_rf = recall_score(target_valid, predictions_valid_rf)\n",
        "f1_rf = f1_score(target_valid, predictions_valid_rf)\n",
        "\n",
        "# Вычисление ROC-AUC для модели случайного леса\n",
        "probabilities_valid_rf = rf_model.predict_proba(features_valid_scaled)[:, 1]\n",
        "roc_auc_rf = roc_auc_score(target_valid, probabilities_valid_rf)\n",
        "fpr_rf, tpr_rf, thresholds_rf = roc_curve(target_valid, probabilities_valid_rf)\n",
        "\n",
        "print(\"Random Forest:\")\n",
        "print(\"Accuracy:\", accuracy_rf)\n",
        "print(\"Precision:\", precision_rf)\n",
        "print(\"Recall:\", recall_rf)\n",
        "print(\"F1-score:\", f1_rf)\n",
        "print(\"ROC-AUC:\", roc_auc_rf)"
      ]
    },
    {
      "cell_type": "code",
      "execution_count": null,
      "metadata": {
        "id": "tskrXbwvNRuk",
        "outputId": "10f6108d-04ae-496a-db7f-69889160e688"
      },
      "outputs": [
        {
          "name": "stdout",
          "output_type": "stream",
          "text": [
            "Decision Tree based on Logistic Regression:\n",
            "Accuracy: 0.795\n",
            "Precision: 0.5092592592592593\n",
            "Recall: 0.5263157894736842\n",
            "F1-score: 0.5176470588235293\n",
            "ROC-AUC: 0.6961541020693326\n"
          ]
        }
      ],
      "source": [
        "# Обучение модели дерева решений\n",
        "dt_model_based_on_lr = DecisionTreeClassifier(random_state=12345)\n",
        "dt_model_based_on_lr.fit(features_train_scaled, target_train)\n",
        "\n",
        "# Предсказания на валидационной выборке\n",
        "predictions_valid_dt = dt_model_based_on_lr.predict(features_valid_scaled)\n",
        "\n",
        "# Оценка производительности модели дерева решений на валидационной выборке\n",
        "accuracy_dt = accuracy_score(target_valid, predictions_valid_dt)\n",
        "precision_dt = precision_score(target_valid, predictions_valid_dt)\n",
        "recall_dt = recall_score(target_valid, predictions_valid_dt)\n",
        "f1_dt = f1_score(target_valid, predictions_valid_dt)\n",
        "\n",
        "# Вычисление ROC-AUC для модели дерева решений\n",
        "probabilities_valid_dt = dt_model_based_on_lr.predict_proba(features_valid_scaled)[:, 1]\n",
        "roc_auc_dt = roc_auc_score(target_valid, probabilities_valid_dt)\n",
        "fpr_dt, tpr_dt, thresholds_dt = roc_curve(target_valid, probabilities_valid_dt)\n",
        "\n",
        "print(\"Decision Tree based on Logistic Regression:\")\n",
        "print(\"Accuracy:\", accuracy_dt)\n",
        "print(\"Precision:\", precision_dt)\n",
        "print(\"Recall:\", recall_dt)\n",
        "print(\"F1-score:\", f1_dt)\n",
        "print(\"ROC-AUC:\", roc_auc_dt)\n"
      ]
    },
    {
      "cell_type": "code",
      "execution_count": null,
      "metadata": {
        "id": "sPuIUewSNRuk",
        "outputId": "748dfa26-7315-4b2c-fc3b-6981c608148b"
      },
      "outputs": [
        {
          "name": "stdout",
          "output_type": "stream",
          "text": [
            "Logistic Regression:\n",
            "Accuracy: 0.802\n",
            "Precision: 0.5625\n",
            "Recall: 0.23684210526315788\n",
            "F1-score: 0.3333333333333333\n",
            "ROC-AUC: 0.7580949558127015\n"
          ]
        }
      ],
      "source": [
        "# Обучение и оценка модели линейной регрессии\n",
        "lr_model = LogisticRegression(random_state=12345)\n",
        "lr_model.fit(features_train_scaled, target_train)\n",
        "predictions_valid_lr = lr_model.predict(features_valid_scaled)\n",
        "accuracy_lr = accuracy_score(target_valid, predictions_valid_lr)\n",
        "precision_lr = precision_score(target_valid, predictions_valid_lr)\n",
        "recall_lr = recall_score(target_valid, predictions_valid_lr)\n",
        "f1_lr = f1_score(target_valid, predictions_valid_lr)\n",
        "\n",
        "# Вычисление ROC-AUC для модели линейной регрессии\n",
        "probabilities_valid_lr = lr_model.predict_proba(features_valid_scaled)[:, 1]\n",
        "roc_auc_lr = roc_auc_score(target_valid, probabilities_valid_lr)\n",
        "fpr_lr, tpr_lr, thresholds_lr = roc_curve(target_valid, probabilities_valid_lr)\n",
        "\n",
        "print(\"Logistic Regression:\")\n",
        "print(\"Accuracy:\", accuracy_lr)\n",
        "print(\"Precision:\", precision_lr)\n",
        "print(\"Recall:\", recall_lr)\n",
        "print(\"F1-score:\", f1_lr)\n",
        "print(\"ROC-AUC:\", roc_auc_lr)"
      ]
    },
    {
      "cell_type": "code",
      "execution_count": null,
      "metadata": {
        "id": "BLlOHRWCNRuk",
        "outputId": "5ad7171f-1069-45f7-c81a-3b773b931034"
      },
      "outputs": [
        {
          "data": {
            "image/png": "[encoded data removed]",
            "text/plain": [
              "<Figure size 432x288 with 1 Axes>"
            ]
          },
          "metadata": {
            "needs_background": "light"
          },
          "output_type": "display_data"
        }
      ],
      "source": [
        "# Построение графика ROC-кривой для всех моделей\n",
        "plt.figure()\n",
        "plt.plot(fpr_rf, tpr_rf, color='darkorange', lw=2, label='Random Forest (ROC curve area = %0.2f)' % roc_auc_rf)\n",
        "plt.plot(fpr_dt, tpr_dt, color='green', lw=2, label='Decision Tree (ROC curve area = %0.2f)' % roc_auc_dt)\n",
        "plt.plot(fpr_lr, tpr_lr, color='blue', lw=2, label='Logistic Regression (ROC curve area = %0.2f)' % roc_auc_lr)\n",
        "plt.plot([0, 1], [0, 1], color='navy', lw=2, linestyle='--')\n",
        "plt.xlim([0.0, 1.0])\n",
        "plt.ylim([0.0, 1.05])\n",
        "plt.xlabel('False Positive Rate')\n",
        "plt.ylabel('True Positive Rate')\n",
        "plt.title('Receiver Operating Characteristic')\n",
        "plt.legend(loc=\"lower right\")\n",
        "plt.show()"
      ]
    },
    {
      "cell_type": "markdown",
      "metadata": {
        "id": "U8eOS5B4NRuv"
      },
      "source": [
        "На основании результатов оценки трех моделей (Random Forest, Decision Tree, Logistic Regression) можно сделать следующие выводы:\n",
        "\n",
        "1. Random Forest показал высокие значения метрик Accuracy (0.854), Precision (0.801), и F1-score (0.553), что говорит о его способности хорошо обобщать данные и точно предсказывать классы. ROC-AUC (0.853) также достаточно близок к 1, что подтверждает хорошее качество модели.\n",
        "\n",
        "2. Decision Tree имеет немного более низкие показатели по сравнению с Random Forest. В частности, его Recall (0.465) и F1-score (0.471) ниже. ROC-AUC (0.663) также ниже, что может указывать на то, что модель менее эффективно разделяет классы.\n",
        "\n",
        "3. Logistic Regression имеет самые низкие значения метрик среди всех трех моделей. Важно отметить, что Recall (0.204) очень низкий, что означает, что модель находит мало положительных случаев из общего числа реальных положительных случаев.\n",
        "\n",
        "Random Forest показывает наилучшее качество среди всех трех моделей с точки зрения всех метрик, включая Accuracy,\n",
        "Precision, Recall и F1-score. Он обладает более высокой способностью к обнаружению положительных классов\n",
        "(клиентов, которые уходят).\n",
        "\n",
        "\n",
        "Decision Tree и Logistic Regression показывают более низкое качество по сравнению с Random Forest.\n",
        "Decision Tree проявляет более низкую точность, хотя его Recall выше, чем у Logistic Regression.\n",
        "Logistic Regression имеет самую низкую способность обнаружения положительных классов (низкий Recall),\n",
        "что может быть неприемлемо для задачи прогнозирования ухода клиентов.\n",
        "\n",
        "\n",
        "Исходя из этих результатов, Random Forest является наилучшей моделью для решения задачи\n",
        "прогнозирования ухода клиентов, так как он демонстрирует наилучший баланс между Precision и Recall,\n",
        "а также имеет наивысший F1-score и Accuracy."
      ]
    },
    {
      "cell_type": "markdown",
      "metadata": {
        "id": "RoKFfdJdNRuv"
      },
      "source": [
        "Улучшите качество модели, учитывая дисбаланс классов. Обучите разные модели и найдите лучшую. Кратко опишите выводы."
      ]
    },
    {
      "cell_type": "markdown",
      "metadata": {
        "id": "VjHMo0zoNRuv"
      },
      "source": []
    },
    {
      "cell_type": "markdown",
      "metadata": {
        "id": "YlqqVGuSNRuw"
      },
      "source": [
        "## Борьба с дисбалансом"
      ]
    },
    {
      "cell_type": "markdown",
      "metadata": {
        "id": "5qKNZ4ExNRuw"
      },
      "source": [
        "\n",
        "Для улучшения качества модели с учетом дисбаланса классов можно использовать методы апсемплинга или дополнительные параметры моделей. Давайте попробуем применить апсемплинг с помощью библиотеки imbalanced-learn и обучим несколько моделей для выбора наилучшей:"
      ]
    },
    {
      "cell_type": "markdown",
      "metadata": {
        "id": "cE6gZ_ODNRuw"
      },
      "source": [
        "Улучшите качество модели, учитывая дисбаланс классов. Обучите разные модели и найдите лучшую. Кратко опишите выводы."
      ]
    },
    {
      "cell_type": "code",
      "execution_count": null,
      "metadata": {
        "id": "VHgHkr3uNRuw"
      },
      "outputs": [],
      "source": [
        "# Применение RandomOverSampler для балансировки классов\n",
        "ros = RandomOverSampler(random_state=12345)\n",
        "features_train_ros, target_train_ros = ros.fit_resample(features_train_scaled, target_train)\n",
        "\n",
        "# Применение SMOTE для балансировки классов\n",
        "smote = SMOTE(random_state=12345)\n",
        "features_train_smote, target_train_smote = smote.fit_resample(features_train_scaled, target_train)"
      ]
    },
    {
      "cell_type": "code",
      "execution_count": null,
      "metadata": {
        "id": "Vtfn-9FINRuw",
        "outputId": "f0203de8-a88d-4555-9d1e-f642c4f2b81b"
      },
      "outputs": [
        {
          "name": "stdout",
          "output_type": "stream",
          "text": [
            "Best Hyperparameters: {'classifier__max_depth': 30, 'classifier__min_samples_leaf': 2, 'classifier__min_samples_split': 2, 'classifier__n_estimators': 300}\n",
            "Best F1-score: 0.6117613404415126\n"
          ]
        }
      ],
      "source": [
        "# Создание пайплайна с RandomOverSampler и RandomForest\n",
        "ros_rf_pipeline = Pipeline([\n",
        "    ('sampler', RandomOverSampler(random_state=12345)),\n",
        "    ('classifier', RandomForestClassifier(random_state=12345, class_weight='balanced'))\n",
        "])\n",
        "\n",
        "# Параметры для настройки\n",
        "param_grid = {\n",
        "    'classifier__n_estimators': [100, 400, 500],\n",
        "    'classifier__max_depth': [5, 30, 35],\n",
        "    'classifier__min_samples_split': [2, 3, 6],\n",
        "    'classifier__min_samples_leaf': [1, 2]\n",
        "}\n",
        "\n",
        "# Создание GridSearchCV с вложенной кросс-валидацией\n",
        "grid_search = GridSearchCV(ros_rf_pipeline, param_grid, scoring=make_scorer(f1_score), cv=5)\n",
        "grid_search.fit(features_train_scaled, target_train)\n",
        "\n",
        "# Вывод результатов\n",
        "print(\"Best Hyperparameters:\", grid_search.best_params_)\n",
        "print(\"Best F1-score:\", grid_search.best_score_)\n"
      ]
    },
    {
      "cell_type": "code",
      "execution_count": null,
      "metadata": {
        "id": "Q-TfYRtANRux",
        "outputId": "b7e0b099-8b3c-44c3-c29c-006164073a32"
      },
      "outputs": [
        {
          "name": "stdout",
          "output_type": "stream",
          "text": [
            "Decision Tree (Random Over Sampling) - Best Hyperparameters: {'classifier__max_depth': 10, 'classifier__min_samples_leaf': 1, 'classifier__min_samples_split': 2}\n",
            "Decision Tree (Random Over Sampling) - Best F1-score: 0.5309503716146541\n",
            "Decision Tree (SMOTE) - Best Hyperparameters: {'classifier__max_depth': 10, 'classifier__min_samples_leaf': 1, 'classifier__min_samples_split': 2}\n",
            "Decision Tree (SMOTE) - Best F1-score: 0.545932677884956\n"
          ]
        }
      ],
      "source": [
        "# Создание пайплайна с RandomOverSampler и DecisionTree\n",
        "ros_dt_pipeline = Pipeline([\n",
        "    ('sampler', RandomOverSampler(random_state=12345)),\n",
        "    ('classifier', DecisionTreeClassifier(random_state=12345))\n",
        "])\n",
        "\n",
        "# Параметры для настройки\n",
        "dt_param_grid = {\n",
        "    'classifier__max_depth': [None, 10, 20, 30],\n",
        "    'classifier__min_samples_split': [2, 5, 10],\n",
        "    'classifier__min_samples_leaf': [1, 2, 4]\n",
        "}\n",
        "\n",
        "# Создание GridSearchCV с вложенной кросс-валидацией\n",
        "dt_grid_search = GridSearchCV(ros_dt_pipeline, dt_param_grid, scoring=make_scorer(f1_score), cv=5)\n",
        "dt_grid_search.fit(features_train_scaled, target_train)\n",
        "\n",
        "# Вывод результатов\n",
        "print(\"Decision Tree (Random Over Sampling) - Best Hyperparameters:\", dt_grid_search.best_params_)\n",
        "print(\"Decision Tree (Random Over Sampling) - Best F1-score:\", dt_grid_search.best_score_)\n",
        "\n",
        "# Аналогично для Decision Tree (SMOTE)\n",
        "smote_dt_pipeline = Pipeline([\n",
        "    ('sampler', SMOTE(random_state=12345)),\n",
        "    ('classifier', DecisionTreeClassifier(random_state=12345))\n",
        "])\n",
        "\n",
        "# Параметры для настройки\n",
        "dt_smote_param_grid = {\n",
        "    'classifier__max_depth': [None, 10, 20, 30],\n",
        "    'classifier__min_samples_split': [2, 5, 10],\n",
        "    'classifier__min_samples_leaf': [1, 2, 4]\n",
        "}\n",
        "\n",
        "# Создание GridSearchCV с вложенной кросс-валидацией\n",
        "dt_smote_grid_search = GridSearchCV(smote_dt_pipeline, dt_smote_param_grid, scoring=make_scorer(f1_score), cv=5)\n",
        "dt_smote_grid_search.fit(features_train_scaled, target_train)\n",
        "\n",
        "# Вывод результатов\n",
        "print(\"Decision Tree (SMOTE) - Best Hyperparameters:\", dt_smote_grid_search.best_params_)\n",
        "print(\"Decision Tree (SMOTE) - Best F1-score:\", dt_smote_grid_search.best_score_)"
      ]
    },
    {
      "cell_type": "code",
      "execution_count": null,
      "metadata": {
        "id": "W-0irR-aNRux",
        "outputId": "7c595ec8-9045-4204-cb8b-0f89e8ad245e"
      },
      "outputs": [
        {
          "name": "stdout",
          "output_type": "stream",
          "text": [
            "Logistic Regression (SMOTE) - Best Hyperparameters: {'classifier__C': 0.01, 'classifier__penalty': 'l2', 'classifier__solver': 'lbfgs'}\n",
            "Logistic Regression (SMOTE) - Best F1-score: 0.4926377723778982\n",
            "Logistic Regression (SMOTE) - Test Results:\n",
            "Best Hyperparameters: {'classifier__C': 0.01, 'classifier__penalty': 'l2', 'classifier__solver': 'lbfgs'}\n",
            "Accuracy: 0.702\n",
            "Precision: 0.3816689466484268\n",
            "Recall: 0.6595744680851063\n",
            "F1-score: 0.48353552859618715\n",
            "ROC-AUC: 0.7448877255944271\n"
          ]
        }
      ],
      "source": [
        "# Создание пайплайна с SMOTE и LogisticRegression\n",
        "smote_lr_pipeline = Pipeline([\n",
        "    ('sampler', SMOTE(random_state=12345)),\n",
        "    ('classifier', LogisticRegression(random_state=12345))\n",
        "])\n",
        "\n",
        "# Параметры для настройки\n",
        "lr_param_grid = {\n",
        "    'classifier__C': [0.01, 0.1, 1, 10, 100],\n",
        "    'classifier__penalty': ['l2'],\n",
        "    'classifier__solver': ['lbfgs', 'liblinear']\n",
        "}\n",
        "\n",
        "# Создание GridSearchCV с вложенной кросс-валидацией\n",
        "lr_grid_search = GridSearchCV(smote_lr_pipeline, lr_param_grid, scoring='f1', cv=5)\n",
        "lr_grid_search.fit(features_train_scaled, target_train)\n",
        "\n",
        "# Вывод результатов\n",
        "print(\"Logistic Regression (SMOTE) - Best Hyperparameters:\", lr_grid_search.best_params_)\n",
        "print(\"Logistic Regression (SMOTE) - Best F1-score:\", lr_grid_search.best_score_)\n",
        "\n",
        "# Оценка производительности модели на тестовой выборке\n",
        "predictions_test_lr_smote = lr_grid_search.predict(features_test_scaled)\n",
        "accuracy_test_lr_smote = accuracy_score(target_test, predictions_test_lr_smote)\n",
        "precision_test_lr_smote = precision_score(target_test, predictions_test_lr_smote)\n",
        "recall_test_lr_smote = recall_score(target_test, predictions_test_lr_smote)\n",
        "f1_test_lr_smote = f1_score(target_test, predictions_test_lr_smote)\n",
        "roc_auc_test_lr_smote = roc_auc_score(target_test, lr_grid_search.predict_proba(features_test_scaled)[:, 1])\n",
        "\n",
        "# Вывод метрик на тестовой выборке\n",
        "print(\"Logistic Regression (SMOTE) - Test Results:\")\n",
        "print(\"Best Hyperparameters:\", lr_grid_search.best_params_)\n",
        "print(\"Accuracy:\", accuracy_test_lr_smote)\n",
        "print(\"Precision:\", precision_test_lr_smote)\n",
        "print(\"Recall:\", recall_test_lr_smote)\n",
        "print(\"F1-score:\", f1_test_lr_smote)\n",
        "print(\"ROC-AUC:\", roc_auc_test_lr_smote)\n"
      ]
    },
    {
      "cell_type": "markdown",
      "metadata": {
        "id": "2YsbbOXSNRux"
      },
      "source": [
        "Для улучшения качества модели, учитывая дисбаланс классов, мы использовали методы апсемплинга и настройки параметров моделей. Применили Random Over Sampling и SMOTE для балансировки классов, а также внесли учет весов классов в модель случайного леса, решающего дерева и логистической регрессии.\n",
        "\n",
        "Из результатов проведенных экспериментов мы можем сделать следующие выводы:\n",
        "\n",
        "* Для модели случайного леса после применения Random Over Sampling и настройки гиперпараметров наилучшие параметры оказались следующими: максимальная глубина деревьев - 30, минимальное количество образцов в листе - 2, минимальное количество образцов для разделения узла - 2, количество деревьев - 300. Полученное значение F1-score составило 0.6118.\n",
        "\n",
        "* Для модели решающего дерева с использованием Random Over Sampling и настройкой параметров лучшими гиперпараметрами стали: максимальная глубина дерева - 10, минимальное количество образцов в листе - 1, минимальное количество образцов для разделения узла - 2. Соответствующее значение F1-score составило 0.5309.\n",
        "\n",
        "* Для модели решающего дерева с применением SMOTE и настройкой параметров оптимальные гиперпараметры были аналогичны предыдущей модели, а значение F1-score составило 0.5459.\n",
        "\n",
        "* Для модели логистической регрессии, использующей SMOTE и настройку параметров, наилучшие гиперпараметры были следующими: параметр регуляризации C - 0.01, тип регуляризации - L2, метод оптимизации - lbfgs. Полученное значение F1-score составило 0.4926.\n",
        "\n",
        "Исходя из полученных результатов, можно сказать, что модель случайного леса с Random Over Sampling и настройкой гиперпараметров демонстрирует наиболее высокий уровень F1-score (0.6118) среди рассмотренных моделей. Это может говорить о том, что данная модель показывает более сбалансированный баланс между точностью и полнотой для задачи классификации."
      ]
    },
    {
      "cell_type": "markdown",
      "metadata": {
        "id": "M-LSO7qxNRuy"
      },
      "source": [
        "## Тестирование модели"
      ]
    },
    {
      "cell_type": "code",
      "execution_count": null,
      "metadata": {
        "id": "-_96xqdKNRuy",
        "outputId": "14317af8-cc81-4c13-b4fb-840fd500b9f9"
      },
      "outputs": [
        {
          "data": {
            "text/plain": [
              "array([[ 0.86796155, -0.26837172, -0.88675067, ..., -0.57247478,\n",
              "         1.72897707,  0.90727838],\n",
              "       [-0.54112214,  1.72553992,  0.60866264, ..., -0.57247478,\n",
              "        -0.57837667, -1.10219754],\n",
              "       [ 0.36501427,  1.50158039,  2.05215189, ...,  1.74680184,\n",
              "        -0.57837667,  0.90727838],\n",
              "       ...,\n",
              "       [ 0.6324215 ,  0.01741474,  1.11751856, ..., -0.57247478,\n",
              "        -0.57837667,  0.90727838],\n",
              "       [-1.20201979,  0.9849632 ,  0.59827783, ..., -0.57247478,\n",
              "        -0.57837667,  0.90727838],\n",
              "       [-0.02154851, -0.00439265, -2.54832103, ..., -0.57247478,\n",
              "         1.72897707,  0.90727838]])"
            ]
          },
          "execution_count": 16,
          "metadata": {},
          "output_type": "execute_result"
        }
      ],
      "source": [
        "features_train_ros"
      ]
    },
    {
      "cell_type": "code",
      "execution_count": null,
      "metadata": {
        "id": "GAbCvulYNRuz",
        "outputId": "9c64573b-16f4-401f-b6b9-edd6ace78c49"
      },
      "outputs": [
        {
          "name": "stdout",
          "output_type": "stream",
          "text": [
            "Random Forest (Random Over Sampling) - Test Results:\n",
            "Best Hyperparameters: {'bootstrap': True, 'ccp_alpha': 0.0, 'class_weight': 'balanced', 'criterion': 'gini', 'max_depth': 9, 'max_features': 'auto', 'max_leaf_nodes': None, 'max_samples': None, 'min_impurity_decrease': 0.0, 'min_impurity_split': None, 'min_samples_leaf': 1, 'min_samples_split': 3, 'min_weight_fraction_leaf': 0.0, 'n_estimators': 800, 'n_jobs': None, 'oob_score': False, 'random_state': 12345, 'verbose': 0, 'warm_start': False}\n",
            "Accuracy: 0.8195\n",
            "Precision: 0.5612648221343873\n",
            "Recall: 0.6713947990543735\n",
            "F1-score: 0.6114101184068891\n",
            "AUC-ROC: 0.8555835885535422\n"
          ]
        }
      ],
      "source": [
        "# Создание модели с лучшими параметрами\n",
        "best_rf_model = RandomForestClassifier(max_depth=9, min_samples_leaf=1, min_samples_split=3, n_estimators=800, random_state=12345, class_weight='balanced')\n",
        "\n",
        "# Обучение модели на обучающих данных\n",
        "best_rf_model.fit(features_train_ros, target_train_ros)\n",
        "\n",
        "# Предсказания на тестовой выборке\n",
        "predictions_test_rf = best_rf_model.predict(features_test_scaled)\n",
        "\n",
        "# Оценка производительности модели\n",
        "accuracy_test_rf = accuracy_score(target_test, predictions_test_rf)\n",
        "precision_test_rf = precision_score(target_test, predictions_test_rf)\n",
        "recall_test_rf = recall_score(target_test, predictions_test_rf)\n",
        "f1_test_rf = f1_score(target_test, predictions_test_rf)\n",
        "roc_auc_test_rf = roc_auc_score(target_test, best_rf_model.predict_proba(features_test_scaled)[:, 1])\n",
        "\n",
        "# Вывод метрик на тестовой выборке\n",
        "print(\"Random Forest (Random Over Sampling) - Test Results:\")\n",
        "print(\"Best Hyperparameters:\", best_rf_model.get_params())\n",
        "print(\"Accuracy:\", accuracy_test_rf)\n",
        "print(\"Precision:\", precision_test_rf)\n",
        "print(\"Recall:\", recall_test_rf)\n",
        "print(\"F1-score:\", f1_test_rf)\n",
        "print(\"AUC-ROC:\", roc_auc_test_rf)"
      ]
    },
    {
      "cell_type": "markdown",
      "metadata": {
        "id": "zneE5ki4NRu0"
      },
      "source": [
        "Выводы из проведенного тестирования:\n",
        "\n",
        "Результаты тестирования модели случайного леса, которую мы настроили с помощью метода \"Random Over Sampling\" и выбрали лучшие настройки, такие:\n",
        "\n",
        "* Точность (Accuracy): 0.8195\n",
        "* Точность предсказания положительных случаев (Precision): 0.5613\n",
        "* Полнота (Recall): 0.6714\n",
        "* F1-мера (F1-score): 0.6114\n",
        "* Площадь под ROC-кривой (AUC-ROC): 0.8556\n",
        "\n",
        "\n",
        "Эти цифры показывают, насколько модель хорошо работает на тестовых данных. Например, F1-мера, которую используют для баланса между точностью и полнотой, составляет 0.6114. Это означает, что модель довольно неплохо умеет комбинировать точные предсказания с полными.\n",
        "\n",
        "Важно заметить, что точность предсказаний для положительных случаев немного ниже, около 56.1%. Это значит, что среди всех предсказанных положительных случаев, около 56.1% действительно являются таковыми. С другой стороны, полнота высокая, около 67.1%, что показывает, что модель хорошо находит положительные случаи.\n",
        "\n",
        "По итогу, модель показала адекватное качество предсказаний"
      ]
    },
    {
      "cell_type": "markdown",
      "metadata": {
        "id": "jMsF8poiNRu0"
      },
      "source": [
        "## Чек-лист готовности проекта"
      ]
    },
    {
      "cell_type": "markdown",
      "metadata": {
        "id": "qDd9PMVLNRu0"
      },
      "source": [
        "Поставьте 'x' в выполненных пунктах. Далее нажмите Shift+Enter."
      ]
    },
    {
      "cell_type": "markdown",
      "metadata": {
        "id": "Nwoql3mfNRu0"
      },
      "source": [
        "- [x]  Jupyter Notebook открыт\n",
        "- [х]  Весь код выполняется без ошибок\n",
        "- [х]  Ячейки с кодом расположены в порядке исполнения\n",
        "- [х]  Выполнен шаг 1: данные подготовлены\n",
        "- [х]  Выполнен шаг 2: задача исследована\n",
        "    - [х]  Исследован баланс классов\n",
        "    - [х]  Изучены модели без учёта дисбаланса\n",
        "    - [х]  Написаны выводы по результатам исследования\n",
        "- [х]  Выполнен шаг 3: учтён дисбаланс\n",
        "    - [х]  Применено несколько способов борьбы с дисбалансом\n",
        "    - [х]  Написаны выводы по результатам исследования\n",
        "- [х]  Выполнен шаг 4: проведено тестирование\n",
        "- [х]  Удалось достичь *F1*-меры не менее 0.59\n",
        "- [х]  Исследована метрика *AUC-ROC*"
      ]
    },
    {
      "cell_type": "code",
      "execution_count": null,
      "metadata": {
        "id": "-FXHkC-0NRu1"
      },
      "outputs": [],
      "source": []
    }
  ],
  "metadata": {
    "ExecuteTimeLog": [
      {
        "duration": 1146,
        "start_time": "2023-08-16T17:53:23.812Z"
      },
      {
        "duration": 4,
        "start_time": "2023-08-16T17:55:21.050Z"
      },
      {
        "duration": 110,
        "start_time": "2023-08-16T17:55:21.769Z"
      },
      {
        "duration": 13,
        "start_time": "2023-08-16T18:04:01.794Z"
      },
      {
        "duration": 12,
        "start_time": "2023-08-16T20:47:29.344Z"
      },
      {
        "duration": 4,
        "start_time": "2023-08-16T20:49:02.890Z"
      },
      {
        "duration": 1195,
        "start_time": "2023-08-17T11:19:51.854Z"
      },
      {
        "duration": 111,
        "start_time": "2023-08-17T11:19:53.051Z"
      },
      {
        "duration": 12,
        "start_time": "2023-08-17T11:19:53.365Z"
      },
      {
        "duration": 6,
        "start_time": "2023-08-17T11:19:57.597Z"
      },
      {
        "duration": 110,
        "start_time": "2023-08-17T11:21:28.439Z"
      },
      {
        "duration": 16,
        "start_time": "2023-08-17T11:22:00.349Z"
      },
      {
        "duration": 3,
        "start_time": "2023-08-17T11:22:25.099Z"
      },
      {
        "duration": 59,
        "start_time": "2023-08-17T11:22:25.798Z"
      },
      {
        "duration": 13,
        "start_time": "2023-08-17T11:22:26.278Z"
      },
      {
        "duration": 5,
        "start_time": "2023-08-17T11:22:26.958Z"
      },
      {
        "duration": 25,
        "start_time": "2023-08-17T11:22:29.148Z"
      },
      {
        "duration": 16,
        "start_time": "2023-08-17T11:24:06.903Z"
      },
      {
        "duration": 903,
        "start_time": "2023-08-17T11:24:14.811Z"
      },
      {
        "duration": 19,
        "start_time": "2023-08-17T11:27:42.798Z"
      },
      {
        "duration": 3,
        "start_time": "2023-08-17T11:28:18.437Z"
      },
      {
        "duration": 60,
        "start_time": "2023-08-17T11:28:18.644Z"
      },
      {
        "duration": 12,
        "start_time": "2023-08-17T11:28:18.839Z"
      },
      {
        "duration": 4,
        "start_time": "2023-08-17T11:28:19.398Z"
      },
      {
        "duration": 876,
        "start_time": "2023-08-17T11:28:19.998Z"
      },
      {
        "duration": 69,
        "start_time": "2023-08-17T12:22:30.345Z"
      },
      {
        "duration": 15,
        "start_time": "2023-08-17T12:22:45.103Z"
      },
      {
        "duration": 3,
        "start_time": "2023-08-17T12:23:03.797Z"
      },
      {
        "duration": 60,
        "start_time": "2023-08-17T12:23:03.960Z"
      },
      {
        "duration": 13,
        "start_time": "2023-08-17T12:23:04.107Z"
      },
      {
        "duration": 5,
        "start_time": "2023-08-17T12:23:04.600Z"
      },
      {
        "duration": 73,
        "start_time": "2023-08-17T12:23:05.888Z"
      },
      {
        "duration": 3,
        "start_time": "2023-08-17T19:06:04.984Z"
      },
      {
        "duration": 57,
        "start_time": "2023-08-17T19:06:05.513Z"
      },
      {
        "duration": 13,
        "start_time": "2023-08-17T19:06:06.107Z"
      },
      {
        "duration": 5,
        "start_time": "2023-08-17T19:06:08.163Z"
      },
      {
        "duration": 68,
        "start_time": "2023-08-17T19:06:14.206Z"
      },
      {
        "duration": 77,
        "start_time": "2023-08-17T19:08:35.376Z"
      },
      {
        "duration": 1189,
        "start_time": "2023-08-17T19:10:50.964Z"
      },
      {
        "duration": 1123,
        "start_time": "2023-08-17T19:11:01.631Z"
      },
      {
        "duration": 1096,
        "start_time": "2023-08-17T19:11:36.844Z"
      },
      {
        "duration": 66,
        "start_time": "2023-08-17T19:11:37.942Z"
      },
      {
        "duration": 13,
        "start_time": "2023-08-17T19:11:38.010Z"
      },
      {
        "duration": 5,
        "start_time": "2023-08-17T19:11:38.025Z"
      },
      {
        "duration": 142,
        "start_time": "2023-08-17T19:11:38.032Z"
      },
      {
        "duration": 0,
        "start_time": "2023-08-17T19:11:38.176Z"
      },
      {
        "duration": 1197,
        "start_time": "2023-08-17T19:14:57.349Z"
      },
      {
        "duration": 85,
        "start_time": "2023-08-17T19:14:58.548Z"
      },
      {
        "duration": 13,
        "start_time": "2023-08-17T19:14:58.635Z"
      },
      {
        "duration": 5,
        "start_time": "2023-08-17T19:14:58.650Z"
      },
      {
        "duration": 1021,
        "start_time": "2023-08-17T19:14:58.657Z"
      },
      {
        "duration": 0,
        "start_time": "2023-08-17T19:14:59.680Z"
      },
      {
        "duration": 5,
        "start_time": "2023-08-17T19:42:28.444Z"
      },
      {
        "duration": 1004,
        "start_time": "2023-08-17T19:42:31.303Z"
      },
      {
        "duration": 4,
        "start_time": "2023-08-17T19:42:46.680Z"
      },
      {
        "duration": 1413,
        "start_time": "2023-08-17T19:42:50.039Z"
      },
      {
        "duration": 912,
        "start_time": "2023-08-17T19:45:04.470Z"
      },
      {
        "duration": 15,
        "start_time": "2023-08-17T19:49:10.448Z"
      },
      {
        "duration": 13,
        "start_time": "2023-08-17T19:49:37.898Z"
      },
      {
        "duration": 6595,
        "start_time": "2023-08-17T19:52:09.047Z"
      },
      {
        "duration": 31,
        "start_time": "2023-08-17T19:52:55.582Z"
      },
      {
        "duration": 88,
        "start_time": "2023-08-17T19:53:51.553Z"
      },
      {
        "duration": 1000,
        "start_time": "2023-08-17T19:54:05.633Z"
      },
      {
        "duration": 66,
        "start_time": "2023-08-17T19:54:06.635Z"
      },
      {
        "duration": 11,
        "start_time": "2023-08-17T19:54:06.703Z"
      },
      {
        "duration": 5,
        "start_time": "2023-08-17T19:54:06.716Z"
      },
      {
        "duration": 1238,
        "start_time": "2023-08-17T19:54:06.723Z"
      },
      {
        "duration": 100,
        "start_time": "2023-08-17T19:54:08.052Z"
      },
      {
        "duration": 0,
        "start_time": "2023-08-17T19:54:08.153Z"
      },
      {
        "duration": 74,
        "start_time": "2023-08-17T19:54:32.798Z"
      },
      {
        "duration": 5473,
        "start_time": "2023-08-17T19:56:15.759Z"
      },
      {
        "duration": 148,
        "start_time": "2023-08-17T19:56:24.309Z"
      },
      {
        "duration": 958,
        "start_time": "2023-08-17T19:57:49.150Z"
      },
      {
        "duration": 66,
        "start_time": "2023-08-17T19:57:50.110Z"
      },
      {
        "duration": 11,
        "start_time": "2023-08-17T19:57:50.177Z"
      },
      {
        "duration": 4,
        "start_time": "2023-08-17T19:57:50.190Z"
      },
      {
        "duration": 1356,
        "start_time": "2023-08-17T19:57:50.196Z"
      },
      {
        "duration": 1061,
        "start_time": "2023-08-17T20:19:48.570Z"
      },
      {
        "duration": 68,
        "start_time": "2023-08-17T20:19:49.634Z"
      },
      {
        "duration": 13,
        "start_time": "2023-08-17T20:19:49.704Z"
      },
      {
        "duration": 40,
        "start_time": "2023-08-17T20:19:49.719Z"
      },
      {
        "duration": 1494,
        "start_time": "2023-08-17T20:19:49.761Z"
      },
      {
        "duration": 145,
        "start_time": "2023-08-17T20:19:51.257Z"
      },
      {
        "duration": 2638,
        "start_time": "2023-08-17T20:21:50.951Z"
      },
      {
        "duration": 3869,
        "start_time": "2023-08-17T20:22:17.386Z"
      },
      {
        "duration": 3740,
        "start_time": "2023-08-17T20:22:43.420Z"
      },
      {
        "duration": 3611,
        "start_time": "2023-08-17T20:30:03.947Z"
      },
      {
        "duration": 1272,
        "start_time": "2023-08-17T20:31:58.811Z"
      },
      {
        "duration": 11,
        "start_time": "2023-08-17T20:32:43.890Z"
      },
      {
        "duration": 11,
        "start_time": "2023-08-17T20:32:47.297Z"
      },
      {
        "duration": 1293,
        "start_time": "2023-08-17T20:36:51.427Z"
      },
      {
        "duration": 1267,
        "start_time": "2023-08-17T20:38:28.921Z"
      },
      {
        "duration": 3702,
        "start_time": "2023-08-17T20:38:38.055Z"
      },
      {
        "duration": 1297,
        "start_time": "2023-08-17T20:38:48.203Z"
      },
      {
        "duration": 1279,
        "start_time": "2023-08-17T20:40:25.585Z"
      },
      {
        "duration": 1383,
        "start_time": "2023-08-17T20:42:23.777Z"
      },
      {
        "duration": 1378,
        "start_time": "2023-08-17T20:44:09.423Z"
      },
      {
        "duration": 1864,
        "start_time": "2023-08-17T20:44:26.806Z"
      },
      {
        "duration": 7091,
        "start_time": "2023-08-18T12:27:01.309Z"
      },
      {
        "duration": 1522,
        "start_time": "2023-08-18T12:27:13.370Z"
      },
      {
        "duration": 119,
        "start_time": "2023-08-18T13:19:44.995Z"
      },
      {
        "duration": 5,
        "start_time": "2023-08-18T13:19:52.215Z"
      },
      {
        "duration": 191,
        "start_time": "2023-08-18T13:19:54.261Z"
      },
      {
        "duration": 13,
        "start_time": "2023-08-18T13:19:57.117Z"
      },
      {
        "duration": 4,
        "start_time": "2023-08-18T13:22:01.067Z"
      },
      {
        "duration": 6596,
        "start_time": "2023-08-19T18:00:48.323Z"
      },
      {
        "duration": 1512,
        "start_time": "2023-08-19T18:00:54.922Z"
      },
      {
        "duration": 121,
        "start_time": "2023-08-19T18:00:56.436Z"
      },
      {
        "duration": 12,
        "start_time": "2023-08-19T18:00:56.559Z"
      },
      {
        "duration": 4,
        "start_time": "2023-08-19T18:00:56.573Z"
      },
      {
        "duration": 1373,
        "start_time": "2023-08-19T18:00:56.578Z"
      },
      {
        "duration": 3505,
        "start_time": "2023-08-19T18:00:57.953Z"
      },
      {
        "duration": 1571,
        "start_time": "2023-08-19T18:01:01.461Z"
      },
      {
        "duration": 2452,
        "start_time": "2023-08-19T18:01:05.086Z"
      },
      {
        "duration": 1341,
        "start_time": "2023-08-19T18:01:07.541Z"
      },
      {
        "duration": 65,
        "start_time": "2023-08-19T18:01:08.884Z"
      },
      {
        "duration": 12,
        "start_time": "2023-08-19T18:01:08.952Z"
      },
      {
        "duration": 4,
        "start_time": "2023-08-19T18:01:08.966Z"
      },
      {
        "duration": 1281,
        "start_time": "2023-08-19T18:01:08.972Z"
      },
      {
        "duration": 3696,
        "start_time": "2023-08-19T18:01:10.255Z"
      },
      {
        "duration": 1574,
        "start_time": "2023-08-19T18:01:13.953Z"
      },
      {
        "duration": 2441,
        "start_time": "2023-08-19T18:04:18.905Z"
      },
      {
        "duration": 1273,
        "start_time": "2023-08-19T18:04:21.348Z"
      },
      {
        "duration": 63,
        "start_time": "2023-08-19T18:04:22.623Z"
      },
      {
        "duration": 11,
        "start_time": "2023-08-19T18:04:22.688Z"
      },
      {
        "duration": 4,
        "start_time": "2023-08-19T18:04:22.701Z"
      },
      {
        "duration": 1344,
        "start_time": "2023-08-19T18:04:22.706Z"
      },
      {
        "duration": 3601,
        "start_time": "2023-08-19T18:04:24.052Z"
      },
      {
        "duration": 1550,
        "start_time": "2023-08-19T18:04:27.655Z"
      },
      {
        "duration": 2319,
        "start_time": "2023-08-19T18:06:59.137Z"
      },
      {
        "duration": 1210,
        "start_time": "2023-08-19T18:07:01.458Z"
      },
      {
        "duration": 63,
        "start_time": "2023-08-19T18:07:02.669Z"
      },
      {
        "duration": 10,
        "start_time": "2023-08-19T18:07:02.734Z"
      },
      {
        "duration": 5,
        "start_time": "2023-08-19T18:07:02.746Z"
      },
      {
        "duration": 1205,
        "start_time": "2023-08-19T18:07:02.752Z"
      },
      {
        "duration": 3600,
        "start_time": "2023-08-19T18:07:03.959Z"
      },
      {
        "duration": 1394,
        "start_time": "2023-08-19T18:07:07.650Z"
      },
      {
        "duration": 3,
        "start_time": "2023-08-19T18:07:25.089Z"
      },
      {
        "duration": 1397,
        "start_time": "2023-08-19T18:07:31.001Z"
      },
      {
        "duration": 2209,
        "start_time": "2023-08-19T18:07:38.841Z"
      },
      {
        "duration": 1223,
        "start_time": "2023-08-19T18:07:41.052Z"
      },
      {
        "duration": 61,
        "start_time": "2023-08-19T18:07:42.276Z"
      },
      {
        "duration": 10,
        "start_time": "2023-08-19T18:07:42.338Z"
      },
      {
        "duration": 16,
        "start_time": "2023-08-19T18:07:42.349Z"
      },
      {
        "duration": 1283,
        "start_time": "2023-08-19T18:07:42.366Z"
      },
      {
        "duration": 3503,
        "start_time": "2023-08-19T18:07:43.650Z"
      },
      {
        "duration": 1478,
        "start_time": "2023-08-19T18:07:47.155Z"
      },
      {
        "duration": 6738,
        "start_time": "2023-08-20T11:23:43.670Z"
      },
      {
        "duration": 1356,
        "start_time": "2023-08-20T11:23:50.411Z"
      },
      {
        "duration": 108,
        "start_time": "2023-08-20T11:23:51.769Z"
      },
      {
        "duration": 112,
        "start_time": "2023-08-20T11:23:51.879Z"
      },
      {
        "duration": 0,
        "start_time": "2023-08-20T11:23:51.993Z"
      },
      {
        "duration": 0,
        "start_time": "2023-08-20T11:23:51.994Z"
      },
      {
        "duration": 0,
        "start_time": "2023-08-20T11:23:51.995Z"
      },
      {
        "duration": 0,
        "start_time": "2023-08-20T11:23:51.997Z"
      },
      {
        "duration": 0,
        "start_time": "2023-08-20T11:23:51.998Z"
      },
      {
        "duration": 10,
        "start_time": "2023-08-20T11:24:24.165Z"
      },
      {
        "duration": 49,
        "start_time": "2023-08-20T11:25:52.796Z"
      },
      {
        "duration": 5,
        "start_time": "2023-08-20T11:25:56.931Z"
      },
      {
        "duration": 20,
        "start_time": "2023-08-20T11:25:59.426Z"
      },
      {
        "duration": 21,
        "start_time": "2023-08-20T11:26:09.000Z"
      },
      {
        "duration": 2485,
        "start_time": "2023-08-20T11:26:36.377Z"
      },
      {
        "duration": 1220,
        "start_time": "2023-08-20T11:26:38.865Z"
      },
      {
        "duration": 62,
        "start_time": "2023-08-20T11:26:40.087Z"
      },
      {
        "duration": 46,
        "start_time": "2023-08-20T11:26:40.151Z"
      },
      {
        "duration": 4,
        "start_time": "2023-08-20T11:26:40.199Z"
      },
      {
        "duration": 21,
        "start_time": "2023-08-20T11:26:40.204Z"
      },
      {
        "duration": 136,
        "start_time": "2023-08-20T11:26:40.227Z"
      },
      {
        "duration": 0,
        "start_time": "2023-08-20T11:26:40.365Z"
      },
      {
        "duration": 0,
        "start_time": "2023-08-20T11:26:40.366Z"
      },
      {
        "duration": 23,
        "start_time": "2023-08-20T11:28:34.166Z"
      },
      {
        "duration": 1212,
        "start_time": "2023-08-20T11:28:44.850Z"
      },
      {
        "duration": 1124,
        "start_time": "2023-08-20T11:29:12.938Z"
      },
      {
        "duration": 13,
        "start_time": "2023-08-20T11:30:34.507Z"
      },
      {
        "duration": 13,
        "start_time": "2023-08-20T11:33:20.322Z"
      },
      {
        "duration": 14,
        "start_time": "2023-08-20T11:43:47.869Z"
      },
      {
        "duration": 13,
        "start_time": "2023-08-20T11:45:01.725Z"
      },
      {
        "duration": 1249,
        "start_time": "2023-08-20T11:45:11.417Z"
      },
      {
        "duration": 18,
        "start_time": "2023-08-20T11:45:24.494Z"
      },
      {
        "duration": 14,
        "start_time": "2023-08-20T11:45:50.602Z"
      },
      {
        "duration": 61,
        "start_time": "2023-08-20T11:46:19.066Z"
      },
      {
        "duration": 59,
        "start_time": "2023-08-20T11:46:35.290Z"
      },
      {
        "duration": 34,
        "start_time": "2023-08-20T11:46:39.593Z"
      },
      {
        "duration": 12,
        "start_time": "2023-08-20T11:47:07.717Z"
      },
      {
        "duration": 5,
        "start_time": "2023-08-20T11:47:16.323Z"
      },
      {
        "duration": 65,
        "start_time": "2023-08-20T11:47:18.267Z"
      },
      {
        "duration": 33,
        "start_time": "2023-08-20T11:47:19.415Z"
      },
      {
        "duration": 13,
        "start_time": "2023-08-20T11:47:20.067Z"
      },
      {
        "duration": 5,
        "start_time": "2023-08-20T11:47:26.154Z"
      },
      {
        "duration": 14,
        "start_time": "2023-08-20T11:48:56.561Z"
      },
      {
        "duration": 14,
        "start_time": "2023-08-20T11:49:54.247Z"
      },
      {
        "duration": 62,
        "start_time": "2023-08-20T11:50:16.541Z"
      },
      {
        "duration": 27,
        "start_time": "2023-08-20T11:50:18.406Z"
      },
      {
        "duration": 13,
        "start_time": "2023-08-20T11:50:46.642Z"
      },
      {
        "duration": 5,
        "start_time": "2023-08-20T11:51:09.411Z"
      },
      {
        "duration": 8,
        "start_time": "2023-08-20T11:51:12.689Z"
      },
      {
        "duration": 1510,
        "start_time": "2023-08-20T11:51:26.246Z"
      },
      {
        "duration": 1554,
        "start_time": "2023-08-20T12:01:49.000Z"
      },
      {
        "duration": 1491,
        "start_time": "2023-08-20T12:02:08.471Z"
      },
      {
        "duration": 1723,
        "start_time": "2023-08-20T12:03:43.431Z"
      },
      {
        "duration": 1947,
        "start_time": "2023-08-20T12:09:36.412Z"
      },
      {
        "duration": 4307,
        "start_time": "2023-08-20T17:15:06.859Z"
      },
      {
        "duration": 4520,
        "start_time": "2023-08-20T17:17:44.233Z"
      },
      {
        "duration": 1959,
        "start_time": "2023-08-20T17:29:06.765Z"
      },
      {
        "duration": 15,
        "start_time": "2023-08-20T17:30:11.513Z"
      },
      {
        "duration": 69,
        "start_time": "2023-08-20T17:31:06.275Z"
      },
      {
        "duration": 2033,
        "start_time": "2023-08-20T17:34:07.719Z"
      },
      {
        "duration": 15,
        "start_time": "2023-08-20T17:35:00.571Z"
      },
      {
        "duration": 1974,
        "start_time": "2023-08-20T17:35:04.782Z"
      },
      {
        "duration": 1700,
        "start_time": "2023-08-20T17:40:26.432Z"
      },
      {
        "duration": 1724,
        "start_time": "2023-08-20T17:41:54.113Z"
      },
      {
        "duration": 1874,
        "start_time": "2023-08-20T17:46:55.555Z"
      },
      {
        "duration": 2069,
        "start_time": "2023-08-20T17:47:02.438Z"
      },
      {
        "duration": 13,
        "start_time": "2023-08-20T17:47:49.796Z"
      },
      {
        "duration": 1938,
        "start_time": "2023-08-20T17:49:01.552Z"
      },
      {
        "duration": 2175,
        "start_time": "2023-08-20T17:50:33.862Z"
      },
      {
        "duration": 15,
        "start_time": "2023-08-20T17:51:41.477Z"
      },
      {
        "duration": 1336,
        "start_time": "2023-08-21T11:07:41.726Z"
      },
      {
        "duration": 7282,
        "start_time": "2023-08-21T11:07:45.622Z"
      },
      {
        "duration": 38,
        "start_time": "2023-08-21T11:07:55.741Z"
      },
      {
        "duration": 23,
        "start_time": "2023-08-21T11:08:04.998Z"
      },
      {
        "duration": 23,
        "start_time": "2023-08-21T11:08:57.281Z"
      },
      {
        "duration": 2408,
        "start_time": "2023-08-21T11:09:05.823Z"
      },
      {
        "duration": 21,
        "start_time": "2023-08-21T11:09:11.133Z"
      },
      {
        "duration": 126,
        "start_time": "2023-08-21T11:10:06.406Z"
      },
      {
        "duration": 9575,
        "start_time": "2023-08-21T11:10:51.878Z"
      },
      {
        "duration": 5499,
        "start_time": "2023-08-21T11:12:37.097Z"
      },
      {
        "duration": 1748,
        "start_time": "2023-08-21T11:12:42.599Z"
      },
      {
        "duration": 392,
        "start_time": "2023-08-21T11:12:44.349Z"
      },
      {
        "duration": 23,
        "start_time": "2023-08-21T11:12:44.744Z"
      },
      {
        "duration": 13,
        "start_time": "2023-08-21T11:12:44.769Z"
      },
      {
        "duration": 5,
        "start_time": "2023-08-21T11:12:44.784Z"
      },
      {
        "duration": 14,
        "start_time": "2023-08-21T11:12:44.791Z"
      },
      {
        "duration": 1367,
        "start_time": "2023-08-21T11:12:44.807Z"
      },
      {
        "duration": 4200,
        "start_time": "2023-08-21T11:12:46.256Z"
      },
      {
        "duration": 1733,
        "start_time": "2023-08-21T11:12:50.460Z"
      },
      {
        "duration": 0,
        "start_time": "2023-08-21T11:12:52.195Z"
      },
      {
        "duration": 6,
        "start_time": "2023-08-21T11:12:57.863Z"
      },
      {
        "duration": 66,
        "start_time": "2023-08-21T11:13:01.020Z"
      },
      {
        "duration": 23,
        "start_time": "2023-08-21T11:13:06.210Z"
      },
      {
        "duration": 15,
        "start_time": "2023-08-21T11:13:09.984Z"
      },
      {
        "duration": 6,
        "start_time": "2023-08-21T11:13:13.939Z"
      },
      {
        "duration": 11,
        "start_time": "2023-08-21T11:13:16.224Z"
      },
      {
        "duration": 1648,
        "start_time": "2023-08-21T11:13:18.120Z"
      },
      {
        "duration": 4149,
        "start_time": "2023-08-21T11:13:25.020Z"
      },
      {
        "duration": 1681,
        "start_time": "2023-08-21T11:14:59.452Z"
      },
      {
        "duration": 9356,
        "start_time": "2023-08-22T16:04:26.891Z"
      },
      {
        "duration": 1693,
        "start_time": "2023-08-22T16:04:36.249Z"
      },
      {
        "duration": 190,
        "start_time": "2023-08-22T16:04:37.944Z"
      },
      {
        "duration": 19,
        "start_time": "2023-08-22T16:04:38.137Z"
      },
      {
        "duration": 17,
        "start_time": "2023-08-22T16:04:38.158Z"
      },
      {
        "duration": 13,
        "start_time": "2023-08-22T16:04:38.177Z"
      },
      {
        "duration": 125,
        "start_time": "2023-08-22T16:04:38.192Z"
      },
      {
        "duration": 0,
        "start_time": "2023-08-22T16:04:38.319Z"
      },
      {
        "duration": 0,
        "start_time": "2023-08-22T16:04:38.320Z"
      },
      {
        "duration": 0,
        "start_time": "2023-08-22T16:04:38.321Z"
      },
      {
        "duration": 0,
        "start_time": "2023-08-22T16:04:38.322Z"
      },
      {
        "duration": 0,
        "start_time": "2023-08-22T16:04:38.324Z"
      },
      {
        "duration": 0,
        "start_time": "2023-08-22T16:04:38.325Z"
      },
      {
        "duration": 0,
        "start_time": "2023-08-22T16:04:38.326Z"
      },
      {
        "duration": 14,
        "start_time": "2023-08-22T16:05:56.379Z"
      },
      {
        "duration": 6,
        "start_time": "2023-08-22T16:06:21.573Z"
      },
      {
        "duration": 923,
        "start_time": "2023-08-22T16:06:23.957Z"
      },
      {
        "duration": 52,
        "start_time": "2023-08-22T16:06:32.174Z"
      },
      {
        "duration": 163,
        "start_time": "2023-08-22T16:06:35.802Z"
      },
      {
        "duration": 179,
        "start_time": "2023-08-22T16:06:36.677Z"
      },
      {
        "duration": 5,
        "start_time": "2023-08-22T16:08:58.981Z"
      },
      {
        "duration": 7,
        "start_time": "2023-08-22T16:09:06.993Z"
      },
      {
        "duration": 1040,
        "start_time": "2023-08-22T16:09:09.183Z"
      },
      {
        "duration": 69,
        "start_time": "2023-08-22T16:09:10.225Z"
      },
      {
        "duration": 107,
        "start_time": "2023-08-22T16:09:10.561Z"
      },
      {
        "duration": 171,
        "start_time": "2023-08-22T16:09:11.956Z"
      },
      {
        "duration": 3180,
        "start_time": "2023-08-22T16:15:57.360Z"
      },
      {
        "duration": 3597,
        "start_time": "2023-08-22T16:22:25.862Z"
      },
      {
        "duration": 1512,
        "start_time": "2023-08-22T17:41:50.558Z"
      },
      {
        "duration": 10317,
        "start_time": "2023-08-23T12:30:21.276Z"
      },
      {
        "duration": 1879,
        "start_time": "2023-08-23T12:30:31.597Z"
      },
      {
        "duration": 132,
        "start_time": "2023-08-23T12:30:33.478Z"
      },
      {
        "duration": 29,
        "start_time": "2023-08-23T12:30:33.612Z"
      },
      {
        "duration": 13,
        "start_time": "2023-08-23T12:30:33.647Z"
      },
      {
        "duration": 20,
        "start_time": "2023-08-23T12:30:33.662Z"
      },
      {
        "duration": 169,
        "start_time": "2023-08-23T12:30:33.684Z"
      },
      {
        "duration": 0,
        "start_time": "2023-08-23T12:30:33.856Z"
      },
      {
        "duration": 0,
        "start_time": "2023-08-23T12:30:33.857Z"
      },
      {
        "duration": 0,
        "start_time": "2023-08-23T12:30:33.858Z"
      },
      {
        "duration": 0,
        "start_time": "2023-08-23T12:30:33.860Z"
      },
      {
        "duration": 0,
        "start_time": "2023-08-23T12:30:33.862Z"
      },
      {
        "duration": 0,
        "start_time": "2023-08-23T12:30:33.863Z"
      },
      {
        "duration": 0,
        "start_time": "2023-08-23T12:30:33.864Z"
      },
      {
        "duration": 0,
        "start_time": "2023-08-23T12:30:33.866Z"
      },
      {
        "duration": 0,
        "start_time": "2023-08-23T12:30:33.867Z"
      },
      {
        "duration": 1,
        "start_time": "2023-08-23T12:30:33.868Z"
      },
      {
        "duration": 7,
        "start_time": "2023-08-23T12:31:07.156Z"
      },
      {
        "duration": 10,
        "start_time": "2023-08-23T12:31:09.436Z"
      },
      {
        "duration": 16,
        "start_time": "2023-08-23T12:31:20.712Z"
      },
      {
        "duration": 5199,
        "start_time": "2023-08-23T12:33:34.678Z"
      },
      {
        "duration": 7,
        "start_time": "2023-08-23T12:33:43.043Z"
      },
      {
        "duration": 74,
        "start_time": "2023-08-23T12:33:45.137Z"
      },
      {
        "duration": 32,
        "start_time": "2023-08-23T12:33:49.516Z"
      },
      {
        "duration": 20,
        "start_time": "2023-08-23T12:33:51.517Z"
      },
      {
        "duration": 8,
        "start_time": "2023-08-23T12:33:54.227Z"
      },
      {
        "duration": 26,
        "start_time": "2023-08-23T12:33:56.613Z"
      },
      {
        "duration": 19,
        "start_time": "2023-08-23T12:38:34.718Z"
      },
      {
        "duration": 1219,
        "start_time": "2023-08-23T12:40:37.950Z"
      },
      {
        "duration": 16,
        "start_time": "2023-08-23T12:51:21.520Z"
      },
      {
        "duration": 13,
        "start_time": "2023-08-23T12:51:30.959Z"
      },
      {
        "duration": 1251,
        "start_time": "2023-08-23T12:51:45.822Z"
      },
      {
        "duration": 70,
        "start_time": "2023-08-23T12:51:57.132Z"
      },
      {
        "duration": 497,
        "start_time": "2023-08-23T12:52:07.438Z"
      },
      {
        "duration": 66,
        "start_time": "2023-08-23T12:52:18.164Z"
      },
      {
        "duration": 183,
        "start_time": "2023-08-23T12:52:23.378Z"
      },
      {
        "duration": 42,
        "start_time": "2023-08-23T12:52:28.762Z"
      },
      {
        "duration": 3268,
        "start_time": "2023-08-23T12:52:31.551Z"
      },
      {
        "duration": 404,
        "start_time": "2023-08-23T12:52:34.828Z"
      },
      {
        "duration": 20,
        "start_time": "2023-08-23T12:52:39.522Z"
      },
      {
        "duration": 13,
        "start_time": "2023-08-23T12:59:04.252Z"
      },
      {
        "duration": 1763,
        "start_time": "2023-08-23T14:04:36.399Z"
      },
      {
        "duration": 1846,
        "start_time": "2023-08-23T14:04:51.785Z"
      },
      {
        "duration": 103,
        "start_time": "2023-08-23T14:07:49.271Z"
      },
      {
        "duration": 4661,
        "start_time": "2023-08-23T14:07:56.351Z"
      },
      {
        "duration": 1581,
        "start_time": "2023-08-23T14:08:01.014Z"
      },
      {
        "duration": 81,
        "start_time": "2023-08-23T14:08:02.597Z"
      },
      {
        "duration": 20,
        "start_time": "2023-08-23T14:08:02.680Z"
      },
      {
        "duration": 25,
        "start_time": "2023-08-23T14:08:02.702Z"
      },
      {
        "duration": 12,
        "start_time": "2023-08-23T14:08:02.728Z"
      },
      {
        "duration": 1305,
        "start_time": "2023-08-23T14:08:02.743Z"
      },
      {
        "duration": 6,
        "start_time": "2023-08-23T14:08:04.056Z"
      },
      {
        "duration": 12,
        "start_time": "2023-08-23T14:08:04.064Z"
      },
      {
        "duration": 1243,
        "start_time": "2023-08-23T14:08:04.077Z"
      },
      {
        "duration": 204,
        "start_time": "2023-08-23T14:08:05.330Z"
      },
      {
        "duration": 417,
        "start_time": "2023-08-23T14:08:05.536Z"
      },
      {
        "duration": 392,
        "start_time": "2023-08-23T14:08:05.969Z"
      },
      {
        "duration": 0,
        "start_time": "2023-08-23T14:08:06.363Z"
      },
      {
        "duration": 0,
        "start_time": "2023-08-23T14:08:06.364Z"
      },
      {
        "duration": 0,
        "start_time": "2023-08-23T14:08:06.365Z"
      },
      {
        "duration": 0,
        "start_time": "2023-08-23T14:08:06.366Z"
      },
      {
        "duration": 0,
        "start_time": "2023-08-23T14:08:06.368Z"
      },
      {
        "duration": 4699,
        "start_time": "2023-08-23T14:11:17.753Z"
      },
      {
        "duration": 5,
        "start_time": "2023-08-23T14:11:24.259Z"
      },
      {
        "duration": 82,
        "start_time": "2023-08-23T14:11:26.285Z"
      },
      {
        "duration": 20,
        "start_time": "2023-08-23T14:11:28.806Z"
      },
      {
        "duration": 14,
        "start_time": "2023-08-23T14:11:31.656Z"
      },
      {
        "duration": 5,
        "start_time": "2023-08-23T14:11:34.378Z"
      },
      {
        "duration": 1196,
        "start_time": "2023-08-23T14:11:37.998Z"
      },
      {
        "duration": 6,
        "start_time": "2023-08-23T14:11:39.367Z"
      },
      {
        "duration": 11,
        "start_time": "2023-08-23T14:11:41.857Z"
      },
      {
        "duration": 1220,
        "start_time": "2023-08-23T14:11:44.768Z"
      },
      {
        "duration": 344,
        "start_time": "2023-08-23T14:11:46.999Z"
      },
      {
        "duration": 5365,
        "start_time": "2023-08-23T14:14:02.392Z"
      },
      {
        "duration": 5,
        "start_time": "2023-08-23T14:14:09.474Z"
      },
      {
        "duration": 94,
        "start_time": "2023-08-23T14:14:10.852Z"
      },
      {
        "duration": 20,
        "start_time": "2023-08-23T14:14:11.666Z"
      },
      {
        "duration": 13,
        "start_time": "2023-08-23T14:14:11.964Z"
      },
      {
        "duration": 6,
        "start_time": "2023-08-23T14:14:13.790Z"
      },
      {
        "duration": 1316,
        "start_time": "2023-08-23T14:14:15.554Z"
      },
      {
        "duration": 10,
        "start_time": "2023-08-23T14:14:16.872Z"
      },
      {
        "duration": 20,
        "start_time": "2023-08-23T14:14:17.945Z"
      },
      {
        "duration": 1291,
        "start_time": "2023-08-23T14:14:19.519Z"
      },
      {
        "duration": 440,
        "start_time": "2023-08-23T14:14:20.812Z"
      },
      {
        "duration": 597,
        "start_time": "2023-08-23T14:14:21.260Z"
      },
      {
        "duration": 173,
        "start_time": "2023-08-23T14:14:21.933Z"
      },
      {
        "duration": 162,
        "start_time": "2023-08-23T14:19:28.524Z"
      },
      {
        "duration": 92,
        "start_time": "2023-08-23T14:26:45.068Z"
      },
      {
        "duration": 174,
        "start_time": "2023-08-23T14:26:49.903Z"
      },
      {
        "duration": 40,
        "start_time": "2023-08-23T14:26:54.199Z"
      },
      {
        "duration": 3818,
        "start_time": "2023-08-23T14:26:56.584Z"
      },
      {
        "duration": 221,
        "start_time": "2023-08-23T14:27:00.404Z"
      },
      {
        "duration": 493,
        "start_time": "2023-08-23T14:27:00.633Z"
      },
      {
        "duration": 14,
        "start_time": "2023-08-23T14:27:05.307Z"
      },
      {
        "duration": 1810,
        "start_time": "2023-08-23T14:33:32.062Z"
      },
      {
        "duration": 4210,
        "start_time": "2023-08-23T19:45:44.111Z"
      },
      {
        "duration": 1440,
        "start_time": "2023-08-23T19:45:48.323Z"
      },
      {
        "duration": 63,
        "start_time": "2023-08-23T19:45:49.765Z"
      },
      {
        "duration": 19,
        "start_time": "2023-08-23T19:45:49.830Z"
      },
      {
        "duration": 13,
        "start_time": "2023-08-23T19:45:49.850Z"
      },
      {
        "duration": 23,
        "start_time": "2023-08-23T19:45:49.865Z"
      },
      {
        "duration": 1156,
        "start_time": "2023-08-23T19:45:49.890Z"
      },
      {
        "duration": 7,
        "start_time": "2023-08-23T19:45:51.047Z"
      },
      {
        "duration": 21,
        "start_time": "2023-08-23T19:45:51.055Z"
      },
      {
        "duration": 1086,
        "start_time": "2023-08-23T19:45:51.078Z"
      },
      {
        "duration": 69,
        "start_time": "2023-08-23T19:45:52.165Z"
      },
      {
        "duration": 291,
        "start_time": "2023-08-23T19:45:52.235Z"
      },
      {
        "duration": 260,
        "start_time": "2023-08-23T19:45:52.529Z"
      },
      {
        "duration": 40,
        "start_time": "2023-08-23T19:45:52.791Z"
      },
      {
        "duration": 2910,
        "start_time": "2023-08-23T19:45:52.833Z"
      },
      {
        "duration": 197,
        "start_time": "2023-08-23T19:45:55.744Z"
      },
      {
        "duration": 287,
        "start_time": "2023-08-23T19:45:55.943Z"
      },
      {
        "duration": 1567,
        "start_time": "2023-08-23T19:45:56.233Z"
      },
      {
        "duration": 50,
        "start_time": "2023-08-24T13:57:26.110Z"
      },
      {
        "duration": 10123,
        "start_time": "2023-08-24T13:57:34.769Z"
      },
      {
        "duration": 1586,
        "start_time": "2023-08-24T13:57:44.895Z"
      },
      {
        "duration": 110,
        "start_time": "2023-08-24T13:57:46.483Z"
      },
      {
        "duration": 26,
        "start_time": "2023-08-24T13:57:46.595Z"
      },
      {
        "duration": 12,
        "start_time": "2023-08-24T13:57:46.623Z"
      },
      {
        "duration": 5,
        "start_time": "2023-08-24T13:57:46.636Z"
      },
      {
        "duration": 920,
        "start_time": "2023-08-24T13:57:46.643Z"
      },
      {
        "duration": 8,
        "start_time": "2023-08-24T13:57:47.565Z"
      },
      {
        "duration": 14,
        "start_time": "2023-08-24T13:57:47.575Z"
      },
      {
        "duration": 1189,
        "start_time": "2023-08-24T13:57:47.592Z"
      },
      {
        "duration": 73,
        "start_time": "2023-08-24T13:57:48.784Z"
      },
      {
        "duration": 252,
        "start_time": "2023-08-24T13:57:48.859Z"
      },
      {
        "duration": 267,
        "start_time": "2023-08-24T13:57:49.114Z"
      },
      {
        "duration": 46,
        "start_time": "2023-08-24T13:57:49.384Z"
      },
      {
        "duration": 3301,
        "start_time": "2023-08-24T13:57:49.432Z"
      },
      {
        "duration": 194,
        "start_time": "2023-08-24T13:57:52.737Z"
      },
      {
        "duration": 376,
        "start_time": "2023-08-24T13:57:52.933Z"
      },
      {
        "duration": 1690,
        "start_time": "2023-08-24T13:57:53.312Z"
      },
      {
        "duration": 117,
        "start_time": "2023-08-24T13:58:46.726Z"
      },
      {
        "duration": 893,
        "start_time": "2023-08-24T13:59:04.162Z"
      },
      {
        "duration": 850,
        "start_time": "2023-08-24T13:59:07.390Z"
      },
      {
        "duration": 54,
        "start_time": "2023-08-24T13:59:35.818Z"
      },
      {
        "duration": 160,
        "start_time": "2023-08-24T13:59:39.460Z"
      },
      {
        "duration": 29,
        "start_time": "2023-08-24T13:59:46.986Z"
      },
      {
        "duration": 2466,
        "start_time": "2023-08-24T13:59:49.841Z"
      },
      {
        "duration": 141,
        "start_time": "2023-08-24T13:59:55.669Z"
      },
      {
        "duration": 606,
        "start_time": "2023-08-24T14:00:00.506Z"
      },
      {
        "duration": 1281,
        "start_time": "2023-08-24T14:00:18.587Z"
      },
      {
        "duration": 4893,
        "start_time": "2023-08-24T14:00:48.413Z"
      },
      {
        "duration": 1408,
        "start_time": "2023-08-24T14:00:53.308Z"
      },
      {
        "duration": 66,
        "start_time": "2023-08-24T14:00:54.717Z"
      },
      {
        "duration": 20,
        "start_time": "2023-08-24T14:00:54.785Z"
      },
      {
        "duration": 13,
        "start_time": "2023-08-24T14:00:54.807Z"
      },
      {
        "duration": 5,
        "start_time": "2023-08-24T14:00:54.822Z"
      },
      {
        "duration": 1033,
        "start_time": "2023-08-24T14:00:54.829Z"
      },
      {
        "duration": 931,
        "start_time": "2023-08-24T14:00:55.863Z"
      },
      {
        "duration": 61,
        "start_time": "2023-08-24T14:00:56.796Z"
      },
      {
        "duration": 252,
        "start_time": "2023-08-24T14:00:56.859Z"
      },
      {
        "duration": 268,
        "start_time": "2023-08-24T14:00:57.113Z"
      },
      {
        "duration": 50,
        "start_time": "2023-08-24T14:00:57.383Z"
      },
      {
        "duration": 2527,
        "start_time": "2023-08-24T14:00:57.435Z"
      },
      {
        "duration": 151,
        "start_time": "2023-08-24T14:00:59.964Z"
      },
      {
        "duration": 1293,
        "start_time": "2023-08-24T14:01:00.117Z"
      },
      {
        "duration": 1409,
        "start_time": "2023-08-24T14:01:01.412Z"
      },
      {
        "duration": 9432,
        "start_time": "2023-08-25T07:36:23.845Z"
      },
      {
        "duration": 4158,
        "start_time": "2023-08-25T07:36:33.279Z"
      },
      {
        "duration": 105,
        "start_time": "2023-08-25T07:36:37.439Z"
      },
      {
        "duration": 20,
        "start_time": "2023-08-25T07:36:37.546Z"
      },
      {
        "duration": 12,
        "start_time": "2023-08-25T07:36:37.568Z"
      },
      {
        "duration": 4,
        "start_time": "2023-08-25T07:36:37.582Z"
      },
      {
        "duration": 923,
        "start_time": "2023-08-25T07:36:37.587Z"
      },
      {
        "duration": 911,
        "start_time": "2023-08-25T07:36:38.512Z"
      },
      {
        "duration": 54,
        "start_time": "2023-08-25T07:36:39.425Z"
      },
      {
        "duration": 237,
        "start_time": "2023-08-25T07:36:39.481Z"
      },
      {
        "duration": 249,
        "start_time": "2023-08-25T07:36:39.811Z"
      },
      {
        "duration": 32,
        "start_time": "2023-08-25T07:36:40.061Z"
      },
      {
        "duration": 2467,
        "start_time": "2023-08-25T07:36:40.095Z"
      },
      {
        "duration": 153,
        "start_time": "2023-08-25T07:36:42.566Z"
      },
      {
        "duration": 399,
        "start_time": "2023-08-25T07:36:42.722Z"
      },
      {
        "duration": 1361,
        "start_time": "2023-08-25T07:36:43.123Z"
      },
      {
        "duration": 18,
        "start_time": "2023-08-25T07:37:04.097Z"
      },
      {
        "duration": 1259,
        "start_time": "2023-08-25T07:37:21.197Z"
      },
      {
        "duration": 1294,
        "start_time": "2023-08-25T07:37:31.247Z"
      },
      {
        "duration": 1312,
        "start_time": "2023-08-25T07:38:20.631Z"
      },
      {
        "duration": 12301,
        "start_time": "2023-08-25T11:41:59.751Z"
      },
      {
        "duration": 1732,
        "start_time": "2023-08-25T11:42:12.055Z"
      },
      {
        "duration": 156,
        "start_time": "2023-08-25T11:42:13.789Z"
      },
      {
        "duration": 23,
        "start_time": "2023-08-25T11:42:13.949Z"
      },
      {
        "duration": 14,
        "start_time": "2023-08-25T11:42:13.974Z"
      },
      {
        "duration": 5,
        "start_time": "2023-08-25T11:42:13.990Z"
      },
      {
        "duration": 1060,
        "start_time": "2023-08-25T11:42:13.996Z"
      },
      {
        "duration": 1039,
        "start_time": "2023-08-25T11:42:15.058Z"
      },
      {
        "duration": 77,
        "start_time": "2023-08-25T11:42:16.100Z"
      },
      {
        "duration": 548,
        "start_time": "2023-08-25T11:42:16.180Z"
      },
      {
        "duration": 205,
        "start_time": "2023-08-25T11:42:16.730Z"
      },
      {
        "duration": 52,
        "start_time": "2023-08-25T11:42:16.945Z"
      },
      {
        "duration": 2888,
        "start_time": "2023-08-25T11:42:16.999Z"
      },
      {
        "duration": 171,
        "start_time": "2023-08-25T11:42:19.888Z"
      },
      {
        "duration": 467,
        "start_time": "2023-08-25T11:42:20.064Z"
      },
      {
        "duration": 21,
        "start_time": "2023-08-25T11:42:20.533Z"
      },
      {
        "duration": 1548,
        "start_time": "2023-08-25T11:42:20.558Z"
      },
      {
        "duration": 4385,
        "start_time": "2023-08-25T11:57:59.809Z"
      },
      {
        "duration": 1487,
        "start_time": "2023-08-25T11:58:04.197Z"
      },
      {
        "duration": 77,
        "start_time": "2023-08-25T11:58:05.685Z"
      },
      {
        "duration": 26,
        "start_time": "2023-08-25T11:58:05.765Z"
      },
      {
        "duration": 33,
        "start_time": "2023-08-25T11:58:05.793Z"
      },
      {
        "duration": 6,
        "start_time": "2023-08-25T11:58:05.828Z"
      },
      {
        "duration": 979,
        "start_time": "2023-08-25T11:58:05.835Z"
      },
      {
        "duration": 928,
        "start_time": "2023-08-25T11:58:06.816Z"
      },
      {
        "duration": 59,
        "start_time": "2023-08-25T11:58:07.746Z"
      },
      {
        "duration": 426,
        "start_time": "2023-08-25T11:58:07.807Z"
      },
      {
        "duration": 353,
        "start_time": "2023-08-25T11:58:08.236Z"
      },
      {
        "duration": 48,
        "start_time": "2023-08-25T11:58:08.591Z"
      },
      {
        "duration": 2614,
        "start_time": "2023-08-25T11:58:08.641Z"
      },
      {
        "duration": 147,
        "start_time": "2023-08-25T11:58:11.257Z"
      },
      {
        "duration": 320,
        "start_time": "2023-08-25T11:58:11.406Z"
      },
      {
        "duration": 92,
        "start_time": "2023-08-25T11:58:11.733Z"
      },
      {
        "duration": 1349,
        "start_time": "2023-08-25T11:58:11.827Z"
      },
      {
        "duration": 152,
        "start_time": "2023-08-25T12:02:10.315Z"
      },
      {
        "duration": 5,
        "start_time": "2023-08-25T12:02:27.271Z"
      },
      {
        "duration": 6329,
        "start_time": "2023-08-25T12:02:33.907Z"
      },
      {
        "duration": 8569,
        "start_time": "2023-08-25T12:04:42.209Z"
      },
      {
        "duration": 1190955,
        "start_time": "2023-08-25T12:36:02.087Z"
      },
      {
        "duration": 7407,
        "start_time": "2023-08-25T19:45:18.028Z"
      },
      {
        "duration": 17104,
        "start_time": "2023-08-25T19:48:33.447Z"
      },
      {
        "duration": 1369,
        "start_time": "2023-08-25T19:49:07.420Z"
      },
      {
        "duration": 1114,
        "start_time": "2023-08-25T20:01:25.108Z"
      },
      {
        "duration": 1081,
        "start_time": "2023-08-25T20:08:30.512Z"
      },
      {
        "duration": 1373,
        "start_time": "2023-08-25T20:08:41.876Z"
      },
      {
        "duration": 2612,
        "start_time": "2023-08-25T20:25:48.727Z"
      },
      {
        "duration": 2566,
        "start_time": "2023-08-25T20:30:02.602Z"
      },
      {
        "duration": 926867,
        "start_time": "2023-08-25T20:31:16.853Z"
      },
      {
        "duration": 1133688,
        "start_time": "2023-08-25T21:06:43.081Z"
      },
      {
        "duration": 2021,
        "start_time": "2023-08-25T21:35:28.669Z"
      },
      {
        "duration": 1749,
        "start_time": "2023-08-25T21:39:43.731Z"
      },
      {
        "duration": 915236,
        "start_time": "2023-08-25T21:58:23.544Z"
      },
      {
        "duration": 9491,
        "start_time": "2023-08-26T19:06:36.847Z"
      },
      {
        "duration": 1766,
        "start_time": "2023-08-26T19:06:46.341Z"
      },
      {
        "duration": 380,
        "start_time": "2023-08-26T19:06:48.109Z"
      },
      {
        "duration": 26,
        "start_time": "2023-08-26T19:06:48.492Z"
      },
      {
        "duration": 14,
        "start_time": "2023-08-26T19:06:48.520Z"
      },
      {
        "duration": 11,
        "start_time": "2023-08-26T19:06:48.536Z"
      },
      {
        "duration": 1001,
        "start_time": "2023-08-26T19:06:48.567Z"
      },
      {
        "duration": 915,
        "start_time": "2023-08-26T19:06:49.570Z"
      },
      {
        "duration": 55,
        "start_time": "2023-08-26T19:06:50.487Z"
      },
      {
        "duration": 422,
        "start_time": "2023-08-26T19:06:50.544Z"
      },
      {
        "duration": 176,
        "start_time": "2023-08-26T19:06:50.968Z"
      },
      {
        "duration": 54,
        "start_time": "2023-08-26T19:06:51.146Z"
      },
      {
        "duration": 1081833,
        "start_time": "2023-08-26T19:06:51.201Z"
      },
      {
        "duration": 16555,
        "start_time": "2023-08-26T19:24:53.036Z"
      },
      {
        "duration": 6680,
        "start_time": "2023-08-26T19:25:09.592Z"
      },
      {
        "duration": 5,
        "start_time": "2023-08-26T19:25:16.274Z"
      },
      {
        "duration": 107413,
        "start_time": "2023-08-26T19:25:16.281Z"
      },
      {
        "duration": 482880,
        "start_time": "2023-08-26T19:33:59.850Z"
      },
      {
        "duration": 133554,
        "start_time": "2023-08-26T20:16:16.676Z"
      },
      {
        "duration": 237813,
        "start_time": "2023-08-26T20:19:47.364Z"
      },
      {
        "duration": 1228,
        "start_time": "2023-08-26T20:29:23.559Z"
      },
      {
        "duration": 238900,
        "start_time": "2023-08-26T20:30:49.192Z"
      },
      {
        "duration": 237609,
        "start_time": "2023-08-26T20:47:35.035Z"
      },
      {
        "duration": 9897,
        "start_time": "2023-08-27T08:42:54.440Z"
      },
      {
        "duration": 1660,
        "start_time": "2023-08-27T08:43:04.339Z"
      },
      {
        "duration": 181,
        "start_time": "2023-08-27T08:43:06.001Z"
      },
      {
        "duration": 20,
        "start_time": "2023-08-27T08:43:06.184Z"
      },
      {
        "duration": 14,
        "start_time": "2023-08-27T08:43:06.207Z"
      },
      {
        "duration": 16,
        "start_time": "2023-08-27T08:43:06.223Z"
      },
      {
        "duration": 956,
        "start_time": "2023-08-27T08:43:06.241Z"
      },
      {
        "duration": 901,
        "start_time": "2023-08-27T08:43:07.199Z"
      },
      {
        "duration": 69,
        "start_time": "2023-08-27T08:43:08.102Z"
      },
      {
        "duration": 195,
        "start_time": "2023-08-27T08:43:08.173Z"
      },
      {
        "duration": 248,
        "start_time": "2023-08-27T08:43:08.461Z"
      },
      {
        "duration": 55,
        "start_time": "2023-08-27T08:43:08.711Z"
      },
      {
        "duration": 1269,
        "start_time": "2023-08-27T08:43:08.768Z"
      },
      {
        "duration": 17781,
        "start_time": "2023-08-27T09:02:13.308Z"
      },
      {
        "duration": 10181,
        "start_time": "2023-08-27T09:02:31.090Z"
      },
      {
        "duration": 10,
        "start_time": "2023-08-27T09:02:41.273Z"
      },
      {
        "duration": 204,
        "start_time": "2023-08-27T09:02:41.285Z"
      },
      {
        "duration": 0,
        "start_time": "2023-08-27T09:02:41.492Z"
      },
      {
        "duration": 1119212,
        "start_time": "2023-08-27T09:18:27.919Z"
      },
      {
        "duration": 1005938,
        "start_time": "2023-08-27T09:54:44.542Z"
      },
      {
        "duration": 932647,
        "start_time": "2023-08-27T11:14:18.217Z"
      },
      {
        "duration": 617226,
        "start_time": "2023-08-27T14:47:21.941Z"
      },
      {
        "duration": 1038709,
        "start_time": "2023-08-27T16:09:31.032Z"
      },
      {
        "duration": 1836999,
        "start_time": "2023-08-27T16:37:47.855Z"
      },
      {
        "duration": 1618298,
        "start_time": "2023-08-27T17:13:16.670Z"
      },
      {
        "duration": 2022839,
        "start_time": "2023-08-27T18:04:13.471Z"
      },
      {
        "duration": 231502,
        "start_time": "2023-08-27T19:15:53.335Z"
      },
      {
        "duration": 9642,
        "start_time": "2023-08-27T19:44:36.284Z"
      },
      {
        "duration": 4195,
        "start_time": "2023-08-27T19:45:55.707Z"
      },
      {
        "duration": 1468,
        "start_time": "2023-08-27T19:45:59.906Z"
      },
      {
        "duration": 69,
        "start_time": "2023-08-27T19:46:01.376Z"
      },
      {
        "duration": 24,
        "start_time": "2023-08-27T19:46:01.447Z"
      },
      {
        "duration": 63,
        "start_time": "2023-08-27T19:46:01.473Z"
      },
      {
        "duration": 26,
        "start_time": "2023-08-27T19:46:01.538Z"
      },
      {
        "duration": 1035,
        "start_time": "2023-08-27T19:46:01.567Z"
      },
      {
        "duration": 951,
        "start_time": "2023-08-27T19:46:02.605Z"
      },
      {
        "duration": 60,
        "start_time": "2023-08-27T19:46:03.557Z"
      },
      {
        "duration": 243,
        "start_time": "2023-08-27T19:46:03.618Z"
      },
      {
        "duration": 279,
        "start_time": "2023-08-27T19:46:03.863Z"
      },
      {
        "duration": 65,
        "start_time": "2023-08-27T19:46:04.144Z"
      },
      {
        "duration": 1380,
        "start_time": "2023-08-27T19:46:04.212Z"
      },
      {
        "duration": 1136439,
        "start_time": "2023-08-27T19:46:05.596Z"
      },
      {
        "duration": 17963,
        "start_time": "2023-08-27T20:05:02.037Z"
      },
      {
        "duration": 10457,
        "start_time": "2023-08-27T20:05:20.002Z"
      },
      {
        "duration": 6,
        "start_time": "2023-08-27T20:05:30.461Z"
      },
      {
        "duration": 10079,
        "start_time": "2023-08-27T20:05:30.469Z"
      },
      {
        "duration": 1420,
        "start_time": "2023-08-29T10:37:03.561Z"
      },
      {
        "duration": 12869,
        "start_time": "2023-08-29T10:37:12.463Z"
      },
      {
        "duration": 1739,
        "start_time": "2023-08-29T10:37:25.339Z"
      },
      {
        "duration": 134,
        "start_time": "2023-08-29T10:37:27.080Z"
      },
      {
        "duration": 28,
        "start_time": "2023-08-29T10:37:27.216Z"
      },
      {
        "duration": 27,
        "start_time": "2023-08-29T10:37:27.246Z"
      },
      {
        "duration": 28,
        "start_time": "2023-08-29T10:37:27.275Z"
      },
      {
        "duration": 961,
        "start_time": "2023-08-29T10:37:27.305Z"
      },
      {
        "duration": 949,
        "start_time": "2023-08-29T10:37:28.268Z"
      },
      {
        "duration": 61,
        "start_time": "2023-08-29T10:37:29.218Z"
      },
      {
        "duration": 361,
        "start_time": "2023-08-29T10:37:29.281Z"
      },
      {
        "duration": 263,
        "start_time": "2023-08-29T10:37:29.643Z"
      },
      {
        "duration": 55,
        "start_time": "2023-08-29T10:37:29.908Z"
      },
      {
        "duration": 903141,
        "start_time": "2023-08-29T10:37:29.965Z"
      },
      {
        "duration": 1064833,
        "start_time": "2023-08-29T10:52:33.109Z"
      },
      {
        "duration": 9743,
        "start_time": "2023-08-29T11:10:34.413Z"
      },
      {
        "duration": 9,
        "start_time": "2023-08-29T11:10:44.238Z"
      },
      {
        "duration": 6958,
        "start_time": "2023-08-29T11:10:44.252Z"
      },
      {
        "duration": 20606,
        "start_time": "2023-08-29T11:10:51.212Z"
      },
      {
        "duration": 11447,
        "start_time": "2023-08-29T11:20:43.291Z"
      },
      {
        "duration": 6459,
        "start_time": "2023-08-29T11:22:09.916Z"
      },
      {
        "duration": 4013,
        "start_time": "2023-08-29T11:30:36.802Z"
      },
      {
        "duration": 1385,
        "start_time": "2023-08-29T11:30:40.818Z"
      },
      {
        "duration": 64,
        "start_time": "2023-08-29T11:30:42.205Z"
      },
      {
        "duration": 19,
        "start_time": "2023-08-29T11:30:42.272Z"
      },
      {
        "duration": 13,
        "start_time": "2023-08-29T11:30:42.293Z"
      },
      {
        "duration": 11,
        "start_time": "2023-08-29T11:30:42.307Z"
      },
      {
        "duration": 906,
        "start_time": "2023-08-29T11:30:42.334Z"
      },
      {
        "duration": 855,
        "start_time": "2023-08-29T11:30:43.241Z"
      },
      {
        "duration": 57,
        "start_time": "2023-08-29T11:30:44.097Z"
      },
      {
        "duration": 182,
        "start_time": "2023-08-29T11:30:44.156Z"
      },
      {
        "duration": 280,
        "start_time": "2023-08-29T11:30:44.340Z"
      },
      {
        "duration": 53,
        "start_time": "2023-08-29T11:30:44.623Z"
      },
      {
        "duration": 4098,
        "start_time": "2023-08-29T11:31:50.269Z"
      },
      {
        "duration": 1391,
        "start_time": "2023-08-29T11:31:54.369Z"
      },
      {
        "duration": 64,
        "start_time": "2023-08-29T11:31:55.762Z"
      },
      {
        "duration": 19,
        "start_time": "2023-08-29T11:31:55.828Z"
      },
      {
        "duration": 53,
        "start_time": "2023-08-29T11:31:55.849Z"
      },
      {
        "duration": 64,
        "start_time": "2023-08-29T11:31:55.904Z"
      },
      {
        "duration": 862,
        "start_time": "2023-08-29T11:31:55.970Z"
      },
      {
        "duration": 847,
        "start_time": "2023-08-29T11:31:56.835Z"
      },
      {
        "duration": 55,
        "start_time": "2023-08-29T11:31:57.684Z"
      },
      {
        "duration": 102,
        "start_time": "2023-08-29T11:31:57.741Z"
      },
      {
        "duration": 342,
        "start_time": "2023-08-29T11:31:57.844Z"
      },
      {
        "duration": 47,
        "start_time": "2023-08-29T11:31:58.187Z"
      },
      {
        "duration": 111,
        "start_time": "2023-08-29T11:31:58.235Z"
      },
      {
        "duration": 0,
        "start_time": "2023-08-29T11:31:58.348Z"
      },
      {
        "duration": 0,
        "start_time": "2023-08-29T11:31:58.349Z"
      },
      {
        "duration": 0,
        "start_time": "2023-08-29T11:31:58.350Z"
      },
      {
        "duration": 0,
        "start_time": "2023-08-29T11:31:58.351Z"
      },
      {
        "duration": 4199,
        "start_time": "2023-08-29T11:41:56.526Z"
      },
      {
        "duration": 1571,
        "start_time": "2023-08-29T11:42:00.728Z"
      },
      {
        "duration": 73,
        "start_time": "2023-08-29T11:42:02.302Z"
      },
      {
        "duration": 23,
        "start_time": "2023-08-29T11:42:02.378Z"
      },
      {
        "duration": 23,
        "start_time": "2023-08-29T11:42:02.403Z"
      },
      {
        "duration": 42,
        "start_time": "2023-08-29T11:42:02.434Z"
      },
      {
        "duration": 1005,
        "start_time": "2023-08-29T11:42:02.478Z"
      },
      {
        "duration": 875,
        "start_time": "2023-08-29T11:42:03.485Z"
      },
      {
        "duration": 58,
        "start_time": "2023-08-29T11:42:04.362Z"
      },
      {
        "duration": 1099,
        "start_time": "2023-08-29T11:42:04.434Z"
      },
      {
        "duration": 259,
        "start_time": "2023-08-29T11:42:05.538Z"
      },
      {
        "duration": 54,
        "start_time": "2023-08-29T11:42:05.798Z"
      },
      {
        "duration": 914791,
        "start_time": "2023-08-29T11:42:05.854Z"
      },
      {
        "duration": 21031,
        "start_time": "2023-08-29T11:57:20.648Z"
      },
      {
        "duration": 13265,
        "start_time": "2023-08-29T11:57:41.681Z"
      },
      {
        "duration": 11,
        "start_time": "2023-08-29T11:57:54.955Z"
      },
      {
        "duration": 6926,
        "start_time": "2023-08-29T11:57:55.040Z"
      },
      {
        "duration": 94,
        "start_time": "2023-08-29T12:08:46.051Z"
      }
    ],
    "kernelspec": {
      "display_name": "Python 3 (ipykernel)",
      "language": "python",
      "name": "python3"
    },
    "language_info": {
      "codemirror_mode": {
        "name": "ipython",
        "version": 3
      },
      "file_extension": ".py",
      "mimetype": "text/x-python",
      "name": "python",
      "nbconvert_exporter": "python",
      "pygments_lexer": "ipython3",
      "version": "3.9.5"
    },
    "toc": {
      "base_numbering": 1,
      "nav_menu": {},
      "number_sections": true,
      "sideBar": true,
      "skip_h1_title": true,
      "title_cell": "Содержание",
      "title_sidebar": "Contents",
      "toc_cell": true,
      "toc_position": {},
      "toc_section_display": true,
      "toc_window_display": true
    },
    "colab": {
      "provenance": [],
      "include_colab_link": true
    }
  },
  "nbformat": 4,
  "nbformat_minor": 0
}
